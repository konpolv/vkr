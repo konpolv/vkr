{
  "nbformat": 4,
  "nbformat_minor": 0,
  "metadata": {
    "colab": {
      "name": "notebook",
      "provenance": [],
      "collapsed_sections": []
    },
    "kernelspec": {
      "name": "python3",
      "display_name": "Python 3"
    },
    "language_info": {
      "name": "python"
    },
    "accelerator": "GPU",
    "widgets": {
      "application/vnd.jupyter.widget-state+json": {
        "e67577e99bb24c5e93f3a97c0cb92dec": {
          "model_module": "@jupyter-widgets/controls",
          "model_name": "HBoxModel",
          "model_module_version": "1.5.0",
          "state": {
            "_view_name": "HBoxView",
            "_dom_classes": [],
            "_model_name": "HBoxModel",
            "_view_module": "@jupyter-widgets/controls",
            "_model_module_version": "1.5.0",
            "_view_count": null,
            "_view_module_version": "1.5.0",
            "box_style": "",
            "layout": "IPY_MODEL_709769c4a81142f9b93f797cbfb29412",
            "_model_module": "@jupyter-widgets/controls",
            "children": [
              "IPY_MODEL_b5421b2a998945ffab1deed7b423680f",
              "IPY_MODEL_b57277ec8f6e41d0b51fb10d8314712b",
              "IPY_MODEL_3d7b5f5fe51b4d608fa0c2c52b64dcc3"
            ]
          }
        },
        "709769c4a81142f9b93f797cbfb29412": {
          "model_module": "@jupyter-widgets/base",
          "model_name": "LayoutModel",
          "model_module_version": "1.2.0",
          "state": {
            "_view_name": "LayoutView",
            "grid_template_rows": null,
            "right": null,
            "justify_content": null,
            "_view_module": "@jupyter-widgets/base",
            "overflow": null,
            "_model_module_version": "1.2.0",
            "_view_count": null,
            "flex_flow": null,
            "width": null,
            "min_width": null,
            "border": null,
            "align_items": null,
            "bottom": null,
            "_model_module": "@jupyter-widgets/base",
            "top": null,
            "grid_column": null,
            "overflow_y": null,
            "overflow_x": null,
            "grid_auto_flow": null,
            "grid_area": null,
            "grid_template_columns": null,
            "flex": null,
            "_model_name": "LayoutModel",
            "justify_items": null,
            "grid_row": null,
            "max_height": null,
            "align_content": null,
            "visibility": null,
            "align_self": null,
            "height": null,
            "min_height": null,
            "padding": null,
            "grid_auto_rows": null,
            "grid_gap": null,
            "max_width": null,
            "order": null,
            "_view_module_version": "1.2.0",
            "grid_template_areas": null,
            "object_position": null,
            "object_fit": null,
            "grid_auto_columns": null,
            "margin": null,
            "display": null,
            "left": null
          }
        },
        "b5421b2a998945ffab1deed7b423680f": {
          "model_module": "@jupyter-widgets/controls",
          "model_name": "HTMLModel",
          "model_module_version": "1.5.0",
          "state": {
            "_view_name": "HTMLView",
            "style": "IPY_MODEL_c2722eb9e7f34592be3dca82446bf8f0",
            "_dom_classes": [],
            "description": "",
            "_model_name": "HTMLModel",
            "placeholder": "​",
            "_view_module": "@jupyter-widgets/controls",
            "_model_module_version": "1.5.0",
            "value": "Downloading: 100%",
            "_view_count": null,
            "_view_module_version": "1.5.0",
            "description_tooltip": null,
            "_model_module": "@jupyter-widgets/controls",
            "layout": "IPY_MODEL_a201c7fff58a4bdf9d2fd35aab20d1cc"
          }
        },
        "b57277ec8f6e41d0b51fb10d8314712b": {
          "model_module": "@jupyter-widgets/controls",
          "model_name": "FloatProgressModel",
          "model_module_version": "1.5.0",
          "state": {
            "_view_name": "ProgressView",
            "style": "IPY_MODEL_fc70627c85d0461eb0fa49c1a78908e3",
            "_dom_classes": [],
            "description": "",
            "_model_name": "FloatProgressModel",
            "bar_style": "success",
            "max": 642,
            "_view_module": "@jupyter-widgets/controls",
            "_model_module_version": "1.5.0",
            "value": 642,
            "_view_count": null,
            "_view_module_version": "1.5.0",
            "orientation": "horizontal",
            "min": 0,
            "description_tooltip": null,
            "_model_module": "@jupyter-widgets/controls",
            "layout": "IPY_MODEL_fd34d20517b14c539eba8fcdf3eae2d6"
          }
        },
        "3d7b5f5fe51b4d608fa0c2c52b64dcc3": {
          "model_module": "@jupyter-widgets/controls",
          "model_name": "HTMLModel",
          "model_module_version": "1.5.0",
          "state": {
            "_view_name": "HTMLView",
            "style": "IPY_MODEL_32c24e52ef874e9eada5cf76b25b2973",
            "_dom_classes": [],
            "description": "",
            "_model_name": "HTMLModel",
            "placeholder": "​",
            "_view_module": "@jupyter-widgets/controls",
            "_model_module_version": "1.5.0",
            "value": " 642/642 [00:00&lt;00:00, 7.91kB/s]",
            "_view_count": null,
            "_view_module_version": "1.5.0",
            "description_tooltip": null,
            "_model_module": "@jupyter-widgets/controls",
            "layout": "IPY_MODEL_c0ecf85d7d4142388a1e727213402211"
          }
        },
        "c2722eb9e7f34592be3dca82446bf8f0": {
          "model_module": "@jupyter-widgets/controls",
          "model_name": "DescriptionStyleModel",
          "model_module_version": "1.5.0",
          "state": {
            "_view_name": "StyleView",
            "_model_name": "DescriptionStyleModel",
            "description_width": "",
            "_view_module": "@jupyter-widgets/base",
            "_model_module_version": "1.5.0",
            "_view_count": null,
            "_view_module_version": "1.2.0",
            "_model_module": "@jupyter-widgets/controls"
          }
        },
        "a201c7fff58a4bdf9d2fd35aab20d1cc": {
          "model_module": "@jupyter-widgets/base",
          "model_name": "LayoutModel",
          "model_module_version": "1.2.0",
          "state": {
            "_view_name": "LayoutView",
            "grid_template_rows": null,
            "right": null,
            "justify_content": null,
            "_view_module": "@jupyter-widgets/base",
            "overflow": null,
            "_model_module_version": "1.2.0",
            "_view_count": null,
            "flex_flow": null,
            "width": null,
            "min_width": null,
            "border": null,
            "align_items": null,
            "bottom": null,
            "_model_module": "@jupyter-widgets/base",
            "top": null,
            "grid_column": null,
            "overflow_y": null,
            "overflow_x": null,
            "grid_auto_flow": null,
            "grid_area": null,
            "grid_template_columns": null,
            "flex": null,
            "_model_name": "LayoutModel",
            "justify_items": null,
            "grid_row": null,
            "max_height": null,
            "align_content": null,
            "visibility": null,
            "align_self": null,
            "height": null,
            "min_height": null,
            "padding": null,
            "grid_auto_rows": null,
            "grid_gap": null,
            "max_width": null,
            "order": null,
            "_view_module_version": "1.2.0",
            "grid_template_areas": null,
            "object_position": null,
            "object_fit": null,
            "grid_auto_columns": null,
            "margin": null,
            "display": null,
            "left": null
          }
        },
        "fc70627c85d0461eb0fa49c1a78908e3": {
          "model_module": "@jupyter-widgets/controls",
          "model_name": "ProgressStyleModel",
          "model_module_version": "1.5.0",
          "state": {
            "_view_name": "StyleView",
            "_model_name": "ProgressStyleModel",
            "description_width": "",
            "_view_module": "@jupyter-widgets/base",
            "_model_module_version": "1.5.0",
            "_view_count": null,
            "_view_module_version": "1.2.0",
            "bar_color": null,
            "_model_module": "@jupyter-widgets/controls"
          }
        },
        "fd34d20517b14c539eba8fcdf3eae2d6": {
          "model_module": "@jupyter-widgets/base",
          "model_name": "LayoutModel",
          "model_module_version": "1.2.0",
          "state": {
            "_view_name": "LayoutView",
            "grid_template_rows": null,
            "right": null,
            "justify_content": null,
            "_view_module": "@jupyter-widgets/base",
            "overflow": null,
            "_model_module_version": "1.2.0",
            "_view_count": null,
            "flex_flow": null,
            "width": null,
            "min_width": null,
            "border": null,
            "align_items": null,
            "bottom": null,
            "_model_module": "@jupyter-widgets/base",
            "top": null,
            "grid_column": null,
            "overflow_y": null,
            "overflow_x": null,
            "grid_auto_flow": null,
            "grid_area": null,
            "grid_template_columns": null,
            "flex": null,
            "_model_name": "LayoutModel",
            "justify_items": null,
            "grid_row": null,
            "max_height": null,
            "align_content": null,
            "visibility": null,
            "align_self": null,
            "height": null,
            "min_height": null,
            "padding": null,
            "grid_auto_rows": null,
            "grid_gap": null,
            "max_width": null,
            "order": null,
            "_view_module_version": "1.2.0",
            "grid_template_areas": null,
            "object_position": null,
            "object_fit": null,
            "grid_auto_columns": null,
            "margin": null,
            "display": null,
            "left": null
          }
        },
        "32c24e52ef874e9eada5cf76b25b2973": {
          "model_module": "@jupyter-widgets/controls",
          "model_name": "DescriptionStyleModel",
          "model_module_version": "1.5.0",
          "state": {
            "_view_name": "StyleView",
            "_model_name": "DescriptionStyleModel",
            "description_width": "",
            "_view_module": "@jupyter-widgets/base",
            "_model_module_version": "1.5.0",
            "_view_count": null,
            "_view_module_version": "1.2.0",
            "_model_module": "@jupyter-widgets/controls"
          }
        },
        "c0ecf85d7d4142388a1e727213402211": {
          "model_module": "@jupyter-widgets/base",
          "model_name": "LayoutModel",
          "model_module_version": "1.2.0",
          "state": {
            "_view_name": "LayoutView",
            "grid_template_rows": null,
            "right": null,
            "justify_content": null,
            "_view_module": "@jupyter-widgets/base",
            "overflow": null,
            "_model_module_version": "1.2.0",
            "_view_count": null,
            "flex_flow": null,
            "width": null,
            "min_width": null,
            "border": null,
            "align_items": null,
            "bottom": null,
            "_model_module": "@jupyter-widgets/base",
            "top": null,
            "grid_column": null,
            "overflow_y": null,
            "overflow_x": null,
            "grid_auto_flow": null,
            "grid_area": null,
            "grid_template_columns": null,
            "flex": null,
            "_model_name": "LayoutModel",
            "justify_items": null,
            "grid_row": null,
            "max_height": null,
            "align_content": null,
            "visibility": null,
            "align_self": null,
            "height": null,
            "min_height": null,
            "padding": null,
            "grid_auto_rows": null,
            "grid_gap": null,
            "max_width": null,
            "order": null,
            "_view_module_version": "1.2.0",
            "grid_template_areas": null,
            "object_position": null,
            "object_fit": null,
            "grid_auto_columns": null,
            "margin": null,
            "display": null,
            "left": null
          }
        },
        "ae0ee99d0c7241cf9fc860bd54b49e1b": {
          "model_module": "@jupyter-widgets/controls",
          "model_name": "HBoxModel",
          "model_module_version": "1.5.0",
          "state": {
            "_view_name": "HBoxView",
            "_dom_classes": [],
            "_model_name": "HBoxModel",
            "_view_module": "@jupyter-widgets/controls",
            "_model_module_version": "1.5.0",
            "_view_count": null,
            "_view_module_version": "1.5.0",
            "box_style": "",
            "layout": "IPY_MODEL_f6d7befc829f480bb9e64a2c5c1b8799",
            "_model_module": "@jupyter-widgets/controls",
            "children": [
              "IPY_MODEL_098e0efa09c54e5b9030bf04230cad23",
              "IPY_MODEL_30c48a1172994954be0c8539260f4bd4",
              "IPY_MODEL_8ccdcbb4ff8d4442afd8e4280ea5b258"
            ]
          }
        },
        "f6d7befc829f480bb9e64a2c5c1b8799": {
          "model_module": "@jupyter-widgets/base",
          "model_name": "LayoutModel",
          "model_module_version": "1.2.0",
          "state": {
            "_view_name": "LayoutView",
            "grid_template_rows": null,
            "right": null,
            "justify_content": null,
            "_view_module": "@jupyter-widgets/base",
            "overflow": null,
            "_model_module_version": "1.2.0",
            "_view_count": null,
            "flex_flow": null,
            "width": null,
            "min_width": null,
            "border": null,
            "align_items": null,
            "bottom": null,
            "_model_module": "@jupyter-widgets/base",
            "top": null,
            "grid_column": null,
            "overflow_y": null,
            "overflow_x": null,
            "grid_auto_flow": null,
            "grid_area": null,
            "grid_template_columns": null,
            "flex": null,
            "_model_name": "LayoutModel",
            "justify_items": null,
            "grid_row": null,
            "max_height": null,
            "align_content": null,
            "visibility": null,
            "align_self": null,
            "height": null,
            "min_height": null,
            "padding": null,
            "grid_auto_rows": null,
            "grid_gap": null,
            "max_width": null,
            "order": null,
            "_view_module_version": "1.2.0",
            "grid_template_areas": null,
            "object_position": null,
            "object_fit": null,
            "grid_auto_columns": null,
            "margin": null,
            "display": null,
            "left": null
          }
        },
        "098e0efa09c54e5b9030bf04230cad23": {
          "model_module": "@jupyter-widgets/controls",
          "model_name": "HTMLModel",
          "model_module_version": "1.5.0",
          "state": {
            "_view_name": "HTMLView",
            "style": "IPY_MODEL_4cea617a80d9498a88ee8e1ba8bbfebe",
            "_dom_classes": [],
            "description": "",
            "_model_name": "HTMLModel",
            "placeholder": "​",
            "_view_module": "@jupyter-widgets/controls",
            "_model_module_version": "1.5.0",
            "value": "Downloading: 100%",
            "_view_count": null,
            "_view_module_version": "1.5.0",
            "description_tooltip": null,
            "_model_module": "@jupyter-widgets/controls",
            "layout": "IPY_MODEL_870e87fdde6042f19d57ef14c1037499"
          }
        },
        "30c48a1172994954be0c8539260f4bd4": {
          "model_module": "@jupyter-widgets/controls",
          "model_name": "FloatProgressModel",
          "model_module_version": "1.5.0",
          "state": {
            "_view_name": "ProgressView",
            "style": "IPY_MODEL_14fb674fe7534210a6955b757c080583",
            "_dom_classes": [],
            "description": "",
            "_model_name": "FloatProgressModel",
            "bar_style": "success",
            "max": 711456784,
            "_view_module": "@jupyter-widgets/controls",
            "_model_module_version": "1.5.0",
            "value": 711456784,
            "_view_count": null,
            "_view_module_version": "1.5.0",
            "orientation": "horizontal",
            "min": 0,
            "description_tooltip": null,
            "_model_module": "@jupyter-widgets/controls",
            "layout": "IPY_MODEL_1537a872072448ac9313c89ef1b62082"
          }
        },
        "8ccdcbb4ff8d4442afd8e4280ea5b258": {
          "model_module": "@jupyter-widgets/controls",
          "model_name": "HTMLModel",
          "model_module_version": "1.5.0",
          "state": {
            "_view_name": "HTMLView",
            "style": "IPY_MODEL_f1d315c4200a40a88599f3bc5194751e",
            "_dom_classes": [],
            "description": "",
            "_model_name": "HTMLModel",
            "placeholder": "​",
            "_view_module": "@jupyter-widgets/controls",
            "_model_module_version": "1.5.0",
            "value": " 711M/711M [00:23&lt;00:00, 31.0MB/s]",
            "_view_count": null,
            "_view_module_version": "1.5.0",
            "description_tooltip": null,
            "_model_module": "@jupyter-widgets/controls",
            "layout": "IPY_MODEL_654f06df490f4186b0b9d9424812db89"
          }
        },
        "4cea617a80d9498a88ee8e1ba8bbfebe": {
          "model_module": "@jupyter-widgets/controls",
          "model_name": "DescriptionStyleModel",
          "model_module_version": "1.5.0",
          "state": {
            "_view_name": "StyleView",
            "_model_name": "DescriptionStyleModel",
            "description_width": "",
            "_view_module": "@jupyter-widgets/base",
            "_model_module_version": "1.5.0",
            "_view_count": null,
            "_view_module_version": "1.2.0",
            "_model_module": "@jupyter-widgets/controls"
          }
        },
        "870e87fdde6042f19d57ef14c1037499": {
          "model_module": "@jupyter-widgets/base",
          "model_name": "LayoutModel",
          "model_module_version": "1.2.0",
          "state": {
            "_view_name": "LayoutView",
            "grid_template_rows": null,
            "right": null,
            "justify_content": null,
            "_view_module": "@jupyter-widgets/base",
            "overflow": null,
            "_model_module_version": "1.2.0",
            "_view_count": null,
            "flex_flow": null,
            "width": null,
            "min_width": null,
            "border": null,
            "align_items": null,
            "bottom": null,
            "_model_module": "@jupyter-widgets/base",
            "top": null,
            "grid_column": null,
            "overflow_y": null,
            "overflow_x": null,
            "grid_auto_flow": null,
            "grid_area": null,
            "grid_template_columns": null,
            "flex": null,
            "_model_name": "LayoutModel",
            "justify_items": null,
            "grid_row": null,
            "max_height": null,
            "align_content": null,
            "visibility": null,
            "align_self": null,
            "height": null,
            "min_height": null,
            "padding": null,
            "grid_auto_rows": null,
            "grid_gap": null,
            "max_width": null,
            "order": null,
            "_view_module_version": "1.2.0",
            "grid_template_areas": null,
            "object_position": null,
            "object_fit": null,
            "grid_auto_columns": null,
            "margin": null,
            "display": null,
            "left": null
          }
        },
        "14fb674fe7534210a6955b757c080583": {
          "model_module": "@jupyter-widgets/controls",
          "model_name": "ProgressStyleModel",
          "model_module_version": "1.5.0",
          "state": {
            "_view_name": "StyleView",
            "_model_name": "ProgressStyleModel",
            "description_width": "",
            "_view_module": "@jupyter-widgets/base",
            "_model_module_version": "1.5.0",
            "_view_count": null,
            "_view_module_version": "1.2.0",
            "bar_color": null,
            "_model_module": "@jupyter-widgets/controls"
          }
        },
        "1537a872072448ac9313c89ef1b62082": {
          "model_module": "@jupyter-widgets/base",
          "model_name": "LayoutModel",
          "model_module_version": "1.2.0",
          "state": {
            "_view_name": "LayoutView",
            "grid_template_rows": null,
            "right": null,
            "justify_content": null,
            "_view_module": "@jupyter-widgets/base",
            "overflow": null,
            "_model_module_version": "1.2.0",
            "_view_count": null,
            "flex_flow": null,
            "width": null,
            "min_width": null,
            "border": null,
            "align_items": null,
            "bottom": null,
            "_model_module": "@jupyter-widgets/base",
            "top": null,
            "grid_column": null,
            "overflow_y": null,
            "overflow_x": null,
            "grid_auto_flow": null,
            "grid_area": null,
            "grid_template_columns": null,
            "flex": null,
            "_model_name": "LayoutModel",
            "justify_items": null,
            "grid_row": null,
            "max_height": null,
            "align_content": null,
            "visibility": null,
            "align_self": null,
            "height": null,
            "min_height": null,
            "padding": null,
            "grid_auto_rows": null,
            "grid_gap": null,
            "max_width": null,
            "order": null,
            "_view_module_version": "1.2.0",
            "grid_template_areas": null,
            "object_position": null,
            "object_fit": null,
            "grid_auto_columns": null,
            "margin": null,
            "display": null,
            "left": null
          }
        },
        "f1d315c4200a40a88599f3bc5194751e": {
          "model_module": "@jupyter-widgets/controls",
          "model_name": "DescriptionStyleModel",
          "model_module_version": "1.5.0",
          "state": {
            "_view_name": "StyleView",
            "_model_name": "DescriptionStyleModel",
            "description_width": "",
            "_view_module": "@jupyter-widgets/base",
            "_model_module_version": "1.5.0",
            "_view_count": null,
            "_view_module_version": "1.2.0",
            "_model_module": "@jupyter-widgets/controls"
          }
        },
        "654f06df490f4186b0b9d9424812db89": {
          "model_module": "@jupyter-widgets/base",
          "model_name": "LayoutModel",
          "model_module_version": "1.2.0",
          "state": {
            "_view_name": "LayoutView",
            "grid_template_rows": null,
            "right": null,
            "justify_content": null,
            "_view_module": "@jupyter-widgets/base",
            "overflow": null,
            "_model_module_version": "1.2.0",
            "_view_count": null,
            "flex_flow": null,
            "width": null,
            "min_width": null,
            "border": null,
            "align_items": null,
            "bottom": null,
            "_model_module": "@jupyter-widgets/base",
            "top": null,
            "grid_column": null,
            "overflow_y": null,
            "overflow_x": null,
            "grid_auto_flow": null,
            "grid_area": null,
            "grid_template_columns": null,
            "flex": null,
            "_model_name": "LayoutModel",
            "justify_items": null,
            "grid_row": null,
            "max_height": null,
            "align_content": null,
            "visibility": null,
            "align_self": null,
            "height": null,
            "min_height": null,
            "padding": null,
            "grid_auto_rows": null,
            "grid_gap": null,
            "max_width": null,
            "order": null,
            "_view_module_version": "1.2.0",
            "grid_template_areas": null,
            "object_position": null,
            "object_fit": null,
            "grid_auto_columns": null,
            "margin": null,
            "display": null,
            "left": null
          }
        },
        "3151e68c6c67455e986d07ce5053f7c9": {
          "model_module": "@jupyter-widgets/controls",
          "model_name": "HBoxModel",
          "model_module_version": "1.5.0",
          "state": {
            "_view_name": "HBoxView",
            "_dom_classes": [],
            "_model_name": "HBoxModel",
            "_view_module": "@jupyter-widgets/controls",
            "_model_module_version": "1.5.0",
            "_view_count": null,
            "_view_module_version": "1.5.0",
            "box_style": "",
            "layout": "IPY_MODEL_c0df1097490e461db76855846865ba89",
            "_model_module": "@jupyter-widgets/controls",
            "children": [
              "IPY_MODEL_794727279e2c4ff4b48e1d76dee9d0ad",
              "IPY_MODEL_b113be93518648dabd8dba2c77a5b80c",
              "IPY_MODEL_bb741802a3054424a74aabb9173a15fd"
            ]
          }
        },
        "c0df1097490e461db76855846865ba89": {
          "model_module": "@jupyter-widgets/base",
          "model_name": "LayoutModel",
          "model_module_version": "1.2.0",
          "state": {
            "_view_name": "LayoutView",
            "grid_template_rows": null,
            "right": null,
            "justify_content": null,
            "_view_module": "@jupyter-widgets/base",
            "overflow": null,
            "_model_module_version": "1.2.0",
            "_view_count": null,
            "flex_flow": null,
            "width": null,
            "min_width": null,
            "border": null,
            "align_items": null,
            "bottom": null,
            "_model_module": "@jupyter-widgets/base",
            "top": null,
            "grid_column": null,
            "overflow_y": null,
            "overflow_x": null,
            "grid_auto_flow": null,
            "grid_area": null,
            "grid_template_columns": null,
            "flex": null,
            "_model_name": "LayoutModel",
            "justify_items": null,
            "grid_row": null,
            "max_height": null,
            "align_content": null,
            "visibility": null,
            "align_self": null,
            "height": null,
            "min_height": null,
            "padding": null,
            "grid_auto_rows": null,
            "grid_gap": null,
            "max_width": null,
            "order": null,
            "_view_module_version": "1.2.0",
            "grid_template_areas": null,
            "object_position": null,
            "object_fit": null,
            "grid_auto_columns": null,
            "margin": null,
            "display": null,
            "left": null
          }
        },
        "794727279e2c4ff4b48e1d76dee9d0ad": {
          "model_module": "@jupyter-widgets/controls",
          "model_name": "HTMLModel",
          "model_module_version": "1.5.0",
          "state": {
            "_view_name": "HTMLView",
            "style": "IPY_MODEL_aa3e2918b8184c7995fc316746c6eedc",
            "_dom_classes": [],
            "description": "",
            "_model_name": "HTMLModel",
            "placeholder": "​",
            "_view_module": "@jupyter-widgets/controls",
            "_model_module_version": "1.5.0",
            "value": "Downloading: 100%",
            "_view_count": null,
            "_view_module_version": "1.5.0",
            "description_tooltip": null,
            "_model_module": "@jupyter-widgets/controls",
            "layout": "IPY_MODEL_5d886c34041f40bb952d2b648166c359"
          }
        },
        "b113be93518648dabd8dba2c77a5b80c": {
          "model_module": "@jupyter-widgets/controls",
          "model_name": "FloatProgressModel",
          "model_module_version": "1.5.0",
          "state": {
            "_view_name": "ProgressView",
            "style": "IPY_MODEL_89597b46caba4af08a02e5d2a845d191",
            "_dom_classes": [],
            "description": "",
            "_model_name": "FloatProgressModel",
            "bar_style": "success",
            "max": 1649718,
            "_view_module": "@jupyter-widgets/controls",
            "_model_module_version": "1.5.0",
            "value": 1649718,
            "_view_count": null,
            "_view_module_version": "1.5.0",
            "orientation": "horizontal",
            "min": 0,
            "description_tooltip": null,
            "_model_module": "@jupyter-widgets/controls",
            "layout": "IPY_MODEL_6288f1e299434943a0a40817341af1e1"
          }
        },
        "bb741802a3054424a74aabb9173a15fd": {
          "model_module": "@jupyter-widgets/controls",
          "model_name": "HTMLModel",
          "model_module_version": "1.5.0",
          "state": {
            "_view_name": "HTMLView",
            "style": "IPY_MODEL_17b3bac30ebf4a6688f1a40e47023434",
            "_dom_classes": [],
            "description": "",
            "_model_name": "HTMLModel",
            "placeholder": "​",
            "_view_module": "@jupyter-widgets/controls",
            "_model_module_version": "1.5.0",
            "value": " 1.65M/1.65M [00:00&lt;00:00, 1.45MB/s]",
            "_view_count": null,
            "_view_module_version": "1.5.0",
            "description_tooltip": null,
            "_model_module": "@jupyter-widgets/controls",
            "layout": "IPY_MODEL_4423228c690b47fd971f57e7d902d0ca"
          }
        },
        "aa3e2918b8184c7995fc316746c6eedc": {
          "model_module": "@jupyter-widgets/controls",
          "model_name": "DescriptionStyleModel",
          "model_module_version": "1.5.0",
          "state": {
            "_view_name": "StyleView",
            "_model_name": "DescriptionStyleModel",
            "description_width": "",
            "_view_module": "@jupyter-widgets/base",
            "_model_module_version": "1.5.0",
            "_view_count": null,
            "_view_module_version": "1.2.0",
            "_model_module": "@jupyter-widgets/controls"
          }
        },
        "5d886c34041f40bb952d2b648166c359": {
          "model_module": "@jupyter-widgets/base",
          "model_name": "LayoutModel",
          "model_module_version": "1.2.0",
          "state": {
            "_view_name": "LayoutView",
            "grid_template_rows": null,
            "right": null,
            "justify_content": null,
            "_view_module": "@jupyter-widgets/base",
            "overflow": null,
            "_model_module_version": "1.2.0",
            "_view_count": null,
            "flex_flow": null,
            "width": null,
            "min_width": null,
            "border": null,
            "align_items": null,
            "bottom": null,
            "_model_module": "@jupyter-widgets/base",
            "top": null,
            "grid_column": null,
            "overflow_y": null,
            "overflow_x": null,
            "grid_auto_flow": null,
            "grid_area": null,
            "grid_template_columns": null,
            "flex": null,
            "_model_name": "LayoutModel",
            "justify_items": null,
            "grid_row": null,
            "max_height": null,
            "align_content": null,
            "visibility": null,
            "align_self": null,
            "height": null,
            "min_height": null,
            "padding": null,
            "grid_auto_rows": null,
            "grid_gap": null,
            "max_width": null,
            "order": null,
            "_view_module_version": "1.2.0",
            "grid_template_areas": null,
            "object_position": null,
            "object_fit": null,
            "grid_auto_columns": null,
            "margin": null,
            "display": null,
            "left": null
          }
        },
        "89597b46caba4af08a02e5d2a845d191": {
          "model_module": "@jupyter-widgets/controls",
          "model_name": "ProgressStyleModel",
          "model_module_version": "1.5.0",
          "state": {
            "_view_name": "StyleView",
            "_model_name": "ProgressStyleModel",
            "description_width": "",
            "_view_module": "@jupyter-widgets/base",
            "_model_module_version": "1.5.0",
            "_view_count": null,
            "_view_module_version": "1.2.0",
            "bar_color": null,
            "_model_module": "@jupyter-widgets/controls"
          }
        },
        "6288f1e299434943a0a40817341af1e1": {
          "model_module": "@jupyter-widgets/base",
          "model_name": "LayoutModel",
          "model_module_version": "1.2.0",
          "state": {
            "_view_name": "LayoutView",
            "grid_template_rows": null,
            "right": null,
            "justify_content": null,
            "_view_module": "@jupyter-widgets/base",
            "overflow": null,
            "_model_module_version": "1.2.0",
            "_view_count": null,
            "flex_flow": null,
            "width": null,
            "min_width": null,
            "border": null,
            "align_items": null,
            "bottom": null,
            "_model_module": "@jupyter-widgets/base",
            "top": null,
            "grid_column": null,
            "overflow_y": null,
            "overflow_x": null,
            "grid_auto_flow": null,
            "grid_area": null,
            "grid_template_columns": null,
            "flex": null,
            "_model_name": "LayoutModel",
            "justify_items": null,
            "grid_row": null,
            "max_height": null,
            "align_content": null,
            "visibility": null,
            "align_self": null,
            "height": null,
            "min_height": null,
            "padding": null,
            "grid_auto_rows": null,
            "grid_gap": null,
            "max_width": null,
            "order": null,
            "_view_module_version": "1.2.0",
            "grid_template_areas": null,
            "object_position": null,
            "object_fit": null,
            "grid_auto_columns": null,
            "margin": null,
            "display": null,
            "left": null
          }
        },
        "17b3bac30ebf4a6688f1a40e47023434": {
          "model_module": "@jupyter-widgets/controls",
          "model_name": "DescriptionStyleModel",
          "model_module_version": "1.5.0",
          "state": {
            "_view_name": "StyleView",
            "_model_name": "DescriptionStyleModel",
            "description_width": "",
            "_view_module": "@jupyter-widgets/base",
            "_model_module_version": "1.5.0",
            "_view_count": null,
            "_view_module_version": "1.2.0",
            "_model_module": "@jupyter-widgets/controls"
          }
        },
        "4423228c690b47fd971f57e7d902d0ca": {
          "model_module": "@jupyter-widgets/base",
          "model_name": "LayoutModel",
          "model_module_version": "1.2.0",
          "state": {
            "_view_name": "LayoutView",
            "grid_template_rows": null,
            "right": null,
            "justify_content": null,
            "_view_module": "@jupyter-widgets/base",
            "overflow": null,
            "_model_module_version": "1.2.0",
            "_view_count": null,
            "flex_flow": null,
            "width": null,
            "min_width": null,
            "border": null,
            "align_items": null,
            "bottom": null,
            "_model_module": "@jupyter-widgets/base",
            "top": null,
            "grid_column": null,
            "overflow_y": null,
            "overflow_x": null,
            "grid_auto_flow": null,
            "grid_area": null,
            "grid_template_columns": null,
            "flex": null,
            "_model_name": "LayoutModel",
            "justify_items": null,
            "grid_row": null,
            "max_height": null,
            "align_content": null,
            "visibility": null,
            "align_self": null,
            "height": null,
            "min_height": null,
            "padding": null,
            "grid_auto_rows": null,
            "grid_gap": null,
            "max_width": null,
            "order": null,
            "_view_module_version": "1.2.0",
            "grid_template_areas": null,
            "object_position": null,
            "object_fit": null,
            "grid_auto_columns": null,
            "margin": null,
            "display": null,
            "left": null
          }
        },
        "90965f5d743649a8b85f3484c1e4f7f3": {
          "model_module": "@jupyter-widgets/controls",
          "model_name": "HBoxModel",
          "model_module_version": "1.5.0",
          "state": {
            "_view_name": "HBoxView",
            "_dom_classes": [],
            "_model_name": "HBoxModel",
            "_view_module": "@jupyter-widgets/controls",
            "_model_module_version": "1.5.0",
            "_view_count": null,
            "_view_module_version": "1.5.0",
            "box_style": "",
            "layout": "IPY_MODEL_a4fee0221c65419785c6e03ab24639af",
            "_model_module": "@jupyter-widgets/controls",
            "children": [
              "IPY_MODEL_57e584c0baec464c8b6cd5e21486b865",
              "IPY_MODEL_ebdfca89cffe4894964f4e3bf9dab7c0",
              "IPY_MODEL_e59c8b038b684bfda89a6fe0636c0ce3"
            ]
          }
        },
        "a4fee0221c65419785c6e03ab24639af": {
          "model_module": "@jupyter-widgets/base",
          "model_name": "LayoutModel",
          "model_module_version": "1.2.0",
          "state": {
            "_view_name": "LayoutView",
            "grid_template_rows": null,
            "right": null,
            "justify_content": null,
            "_view_module": "@jupyter-widgets/base",
            "overflow": null,
            "_model_module_version": "1.2.0",
            "_view_count": null,
            "flex_flow": null,
            "width": null,
            "min_width": null,
            "border": null,
            "align_items": null,
            "bottom": null,
            "_model_module": "@jupyter-widgets/base",
            "top": null,
            "grid_column": null,
            "overflow_y": null,
            "overflow_x": null,
            "grid_auto_flow": null,
            "grid_area": null,
            "grid_template_columns": null,
            "flex": null,
            "_model_name": "LayoutModel",
            "justify_items": null,
            "grid_row": null,
            "max_height": null,
            "align_content": null,
            "visibility": null,
            "align_self": null,
            "height": null,
            "min_height": null,
            "padding": null,
            "grid_auto_rows": null,
            "grid_gap": null,
            "max_width": null,
            "order": null,
            "_view_module_version": "1.2.0",
            "grid_template_areas": null,
            "object_position": null,
            "object_fit": null,
            "grid_auto_columns": null,
            "margin": null,
            "display": null,
            "left": null
          }
        },
        "57e584c0baec464c8b6cd5e21486b865": {
          "model_module": "@jupyter-widgets/controls",
          "model_name": "HTMLModel",
          "model_module_version": "1.5.0",
          "state": {
            "_view_name": "HTMLView",
            "style": "IPY_MODEL_7be29ab45f304366bf43611e4d504f78",
            "_dom_classes": [],
            "description": "",
            "_model_name": "HTMLModel",
            "placeholder": "​",
            "_view_module": "@jupyter-widgets/controls",
            "_model_module_version": "1.5.0",
            "value": "Downloading: 100%",
            "_view_count": null,
            "_view_module_version": "1.5.0",
            "description_tooltip": null,
            "_model_module": "@jupyter-widgets/controls",
            "layout": "IPY_MODEL_5f80b88d4d5942aab20a42df0252509c"
          }
        },
        "ebdfca89cffe4894964f4e3bf9dab7c0": {
          "model_module": "@jupyter-widgets/controls",
          "model_name": "FloatProgressModel",
          "model_module_version": "1.5.0",
          "state": {
            "_view_name": "ProgressView",
            "style": "IPY_MODEL_b7b0fbf3fd534bed97dba7da616cf6db",
            "_dom_classes": [],
            "description": "",
            "_model_name": "FloatProgressModel",
            "bar_style": "success",
            "max": 112,
            "_view_module": "@jupyter-widgets/controls",
            "_model_module_version": "1.5.0",
            "value": 112,
            "_view_count": null,
            "_view_module_version": "1.5.0",
            "orientation": "horizontal",
            "min": 0,
            "description_tooltip": null,
            "_model_module": "@jupyter-widgets/controls",
            "layout": "IPY_MODEL_3f1c73b26c16433bbad4c6b8ea49f2a6"
          }
        },
        "e59c8b038b684bfda89a6fe0636c0ce3": {
          "model_module": "@jupyter-widgets/controls",
          "model_name": "HTMLModel",
          "model_module_version": "1.5.0",
          "state": {
            "_view_name": "HTMLView",
            "style": "IPY_MODEL_f603aaa29e4b40878bd7edb9301fc31a",
            "_dom_classes": [],
            "description": "",
            "_model_name": "HTMLModel",
            "placeholder": "​",
            "_view_module": "@jupyter-widgets/controls",
            "_model_module_version": "1.5.0",
            "value": " 112/112 [00:00&lt;00:00, 2.67kB/s]",
            "_view_count": null,
            "_view_module_version": "1.5.0",
            "description_tooltip": null,
            "_model_module": "@jupyter-widgets/controls",
            "layout": "IPY_MODEL_7150eba624804afba616f27a7c40d81f"
          }
        },
        "7be29ab45f304366bf43611e4d504f78": {
          "model_module": "@jupyter-widgets/controls",
          "model_name": "DescriptionStyleModel",
          "model_module_version": "1.5.0",
          "state": {
            "_view_name": "StyleView",
            "_model_name": "DescriptionStyleModel",
            "description_width": "",
            "_view_module": "@jupyter-widgets/base",
            "_model_module_version": "1.5.0",
            "_view_count": null,
            "_view_module_version": "1.2.0",
            "_model_module": "@jupyter-widgets/controls"
          }
        },
        "5f80b88d4d5942aab20a42df0252509c": {
          "model_module": "@jupyter-widgets/base",
          "model_name": "LayoutModel",
          "model_module_version": "1.2.0",
          "state": {
            "_view_name": "LayoutView",
            "grid_template_rows": null,
            "right": null,
            "justify_content": null,
            "_view_module": "@jupyter-widgets/base",
            "overflow": null,
            "_model_module_version": "1.2.0",
            "_view_count": null,
            "flex_flow": null,
            "width": null,
            "min_width": null,
            "border": null,
            "align_items": null,
            "bottom": null,
            "_model_module": "@jupyter-widgets/base",
            "top": null,
            "grid_column": null,
            "overflow_y": null,
            "overflow_x": null,
            "grid_auto_flow": null,
            "grid_area": null,
            "grid_template_columns": null,
            "flex": null,
            "_model_name": "LayoutModel",
            "justify_items": null,
            "grid_row": null,
            "max_height": null,
            "align_content": null,
            "visibility": null,
            "align_self": null,
            "height": null,
            "min_height": null,
            "padding": null,
            "grid_auto_rows": null,
            "grid_gap": null,
            "max_width": null,
            "order": null,
            "_view_module_version": "1.2.0",
            "grid_template_areas": null,
            "object_position": null,
            "object_fit": null,
            "grid_auto_columns": null,
            "margin": null,
            "display": null,
            "left": null
          }
        },
        "b7b0fbf3fd534bed97dba7da616cf6db": {
          "model_module": "@jupyter-widgets/controls",
          "model_name": "ProgressStyleModel",
          "model_module_version": "1.5.0",
          "state": {
            "_view_name": "StyleView",
            "_model_name": "ProgressStyleModel",
            "description_width": "",
            "_view_module": "@jupyter-widgets/base",
            "_model_module_version": "1.5.0",
            "_view_count": null,
            "_view_module_version": "1.2.0",
            "bar_color": null,
            "_model_module": "@jupyter-widgets/controls"
          }
        },
        "3f1c73b26c16433bbad4c6b8ea49f2a6": {
          "model_module": "@jupyter-widgets/base",
          "model_name": "LayoutModel",
          "model_module_version": "1.2.0",
          "state": {
            "_view_name": "LayoutView",
            "grid_template_rows": null,
            "right": null,
            "justify_content": null,
            "_view_module": "@jupyter-widgets/base",
            "overflow": null,
            "_model_module_version": "1.2.0",
            "_view_count": null,
            "flex_flow": null,
            "width": null,
            "min_width": null,
            "border": null,
            "align_items": null,
            "bottom": null,
            "_model_module": "@jupyter-widgets/base",
            "top": null,
            "grid_column": null,
            "overflow_y": null,
            "overflow_x": null,
            "grid_auto_flow": null,
            "grid_area": null,
            "grid_template_columns": null,
            "flex": null,
            "_model_name": "LayoutModel",
            "justify_items": null,
            "grid_row": null,
            "max_height": null,
            "align_content": null,
            "visibility": null,
            "align_self": null,
            "height": null,
            "min_height": null,
            "padding": null,
            "grid_auto_rows": null,
            "grid_gap": null,
            "max_width": null,
            "order": null,
            "_view_module_version": "1.2.0",
            "grid_template_areas": null,
            "object_position": null,
            "object_fit": null,
            "grid_auto_columns": null,
            "margin": null,
            "display": null,
            "left": null
          }
        },
        "f603aaa29e4b40878bd7edb9301fc31a": {
          "model_module": "@jupyter-widgets/controls",
          "model_name": "DescriptionStyleModel",
          "model_module_version": "1.5.0",
          "state": {
            "_view_name": "StyleView",
            "_model_name": "DescriptionStyleModel",
            "description_width": "",
            "_view_module": "@jupyter-widgets/base",
            "_model_module_version": "1.5.0",
            "_view_count": null,
            "_view_module_version": "1.2.0",
            "_model_module": "@jupyter-widgets/controls"
          }
        },
        "7150eba624804afba616f27a7c40d81f": {
          "model_module": "@jupyter-widgets/base",
          "model_name": "LayoutModel",
          "model_module_version": "1.2.0",
          "state": {
            "_view_name": "LayoutView",
            "grid_template_rows": null,
            "right": null,
            "justify_content": null,
            "_view_module": "@jupyter-widgets/base",
            "overflow": null,
            "_model_module_version": "1.2.0",
            "_view_count": null,
            "flex_flow": null,
            "width": null,
            "min_width": null,
            "border": null,
            "align_items": null,
            "bottom": null,
            "_model_module": "@jupyter-widgets/base",
            "top": null,
            "grid_column": null,
            "overflow_y": null,
            "overflow_x": null,
            "grid_auto_flow": null,
            "grid_area": null,
            "grid_template_columns": null,
            "flex": null,
            "_model_name": "LayoutModel",
            "justify_items": null,
            "grid_row": null,
            "max_height": null,
            "align_content": null,
            "visibility": null,
            "align_self": null,
            "height": null,
            "min_height": null,
            "padding": null,
            "grid_auto_rows": null,
            "grid_gap": null,
            "max_width": null,
            "order": null,
            "_view_module_version": "1.2.0",
            "grid_template_areas": null,
            "object_position": null,
            "object_fit": null,
            "grid_auto_columns": null,
            "margin": null,
            "display": null,
            "left": null
          }
        },
        "053cc9a2d98a48008ce786837c3f2729": {
          "model_module": "@jupyter-widgets/controls",
          "model_name": "HBoxModel",
          "model_module_version": "1.5.0",
          "state": {
            "_view_name": "HBoxView",
            "_dom_classes": [],
            "_model_name": "HBoxModel",
            "_view_module": "@jupyter-widgets/controls",
            "_model_module_version": "1.5.0",
            "_view_count": null,
            "_view_module_version": "1.5.0",
            "box_style": "",
            "layout": "IPY_MODEL_5f86f209fae5449fb50ae9fd1a975c18",
            "_model_module": "@jupyter-widgets/controls",
            "children": [
              "IPY_MODEL_32d3d02fa19043ecbfb625fb551de187",
              "IPY_MODEL_9d68387dea124ba393947f9413b601cb",
              "IPY_MODEL_52387f834f624739ac154836297d9166"
            ]
          }
        },
        "5f86f209fae5449fb50ae9fd1a975c18": {
          "model_module": "@jupyter-widgets/base",
          "model_name": "LayoutModel",
          "model_module_version": "1.2.0",
          "state": {
            "_view_name": "LayoutView",
            "grid_template_rows": null,
            "right": null,
            "justify_content": null,
            "_view_module": "@jupyter-widgets/base",
            "overflow": null,
            "_model_module_version": "1.2.0",
            "_view_count": null,
            "flex_flow": null,
            "width": null,
            "min_width": null,
            "border": null,
            "align_items": null,
            "bottom": null,
            "_model_module": "@jupyter-widgets/base",
            "top": null,
            "grid_column": null,
            "overflow_y": null,
            "overflow_x": null,
            "grid_auto_flow": null,
            "grid_area": null,
            "grid_template_columns": null,
            "flex": null,
            "_model_name": "LayoutModel",
            "justify_items": null,
            "grid_row": null,
            "max_height": null,
            "align_content": null,
            "visibility": null,
            "align_self": null,
            "height": null,
            "min_height": null,
            "padding": null,
            "grid_auto_rows": null,
            "grid_gap": null,
            "max_width": null,
            "order": null,
            "_view_module_version": "1.2.0",
            "grid_template_areas": null,
            "object_position": null,
            "object_fit": null,
            "grid_auto_columns": null,
            "margin": null,
            "display": null,
            "left": null
          }
        },
        "32d3d02fa19043ecbfb625fb551de187": {
          "model_module": "@jupyter-widgets/controls",
          "model_name": "HTMLModel",
          "model_module_version": "1.5.0",
          "state": {
            "_view_name": "HTMLView",
            "style": "IPY_MODEL_15bec3538a274cacbabd42b7a71edea9",
            "_dom_classes": [],
            "description": "",
            "_model_name": "HTMLModel",
            "placeholder": "​",
            "_view_module": "@jupyter-widgets/controls",
            "_model_module_version": "1.5.0",
            "value": "Downloading: 100%",
            "_view_count": null,
            "_view_module_version": "1.5.0",
            "description_tooltip": null,
            "_model_module": "@jupyter-widgets/controls",
            "layout": "IPY_MODEL_41f17509730349a7b899c32716b88439"
          }
        },
        "9d68387dea124ba393947f9413b601cb": {
          "model_module": "@jupyter-widgets/controls",
          "model_name": "FloatProgressModel",
          "model_module_version": "1.5.0",
          "state": {
            "_view_name": "ProgressView",
            "style": "IPY_MODEL_00f62c3a1ec640f182bf754332fc6ee6",
            "_dom_classes": [],
            "description": "",
            "_model_name": "FloatProgressModel",
            "bar_style": "success",
            "max": 24,
            "_view_module": "@jupyter-widgets/controls",
            "_model_module_version": "1.5.0",
            "value": 24,
            "_view_count": null,
            "_view_module_version": "1.5.0",
            "orientation": "horizontal",
            "min": 0,
            "description_tooltip": null,
            "_model_module": "@jupyter-widgets/controls",
            "layout": "IPY_MODEL_426f18ac8f494cada375d57929f89e29"
          }
        },
        "52387f834f624739ac154836297d9166": {
          "model_module": "@jupyter-widgets/controls",
          "model_name": "HTMLModel",
          "model_module_version": "1.5.0",
          "state": {
            "_view_name": "HTMLView",
            "style": "IPY_MODEL_3d15e70b3fe142099e86602cc241c607",
            "_dom_classes": [],
            "description": "",
            "_model_name": "HTMLModel",
            "placeholder": "​",
            "_view_module": "@jupyter-widgets/controls",
            "_model_module_version": "1.5.0",
            "value": " 24.0/24.0 [00:00&lt;00:00, 583B/s]",
            "_view_count": null,
            "_view_module_version": "1.5.0",
            "description_tooltip": null,
            "_model_module": "@jupyter-widgets/controls",
            "layout": "IPY_MODEL_dd9268cbd7e1410eb3a7cf182b83b584"
          }
        },
        "15bec3538a274cacbabd42b7a71edea9": {
          "model_module": "@jupyter-widgets/controls",
          "model_name": "DescriptionStyleModel",
          "model_module_version": "1.5.0",
          "state": {
            "_view_name": "StyleView",
            "_model_name": "DescriptionStyleModel",
            "description_width": "",
            "_view_module": "@jupyter-widgets/base",
            "_model_module_version": "1.5.0",
            "_view_count": null,
            "_view_module_version": "1.2.0",
            "_model_module": "@jupyter-widgets/controls"
          }
        },
        "41f17509730349a7b899c32716b88439": {
          "model_module": "@jupyter-widgets/base",
          "model_name": "LayoutModel",
          "model_module_version": "1.2.0",
          "state": {
            "_view_name": "LayoutView",
            "grid_template_rows": null,
            "right": null,
            "justify_content": null,
            "_view_module": "@jupyter-widgets/base",
            "overflow": null,
            "_model_module_version": "1.2.0",
            "_view_count": null,
            "flex_flow": null,
            "width": null,
            "min_width": null,
            "border": null,
            "align_items": null,
            "bottom": null,
            "_model_module": "@jupyter-widgets/base",
            "top": null,
            "grid_column": null,
            "overflow_y": null,
            "overflow_x": null,
            "grid_auto_flow": null,
            "grid_area": null,
            "grid_template_columns": null,
            "flex": null,
            "_model_name": "LayoutModel",
            "justify_items": null,
            "grid_row": null,
            "max_height": null,
            "align_content": null,
            "visibility": null,
            "align_self": null,
            "height": null,
            "min_height": null,
            "padding": null,
            "grid_auto_rows": null,
            "grid_gap": null,
            "max_width": null,
            "order": null,
            "_view_module_version": "1.2.0",
            "grid_template_areas": null,
            "object_position": null,
            "object_fit": null,
            "grid_auto_columns": null,
            "margin": null,
            "display": null,
            "left": null
          }
        },
        "00f62c3a1ec640f182bf754332fc6ee6": {
          "model_module": "@jupyter-widgets/controls",
          "model_name": "ProgressStyleModel",
          "model_module_version": "1.5.0",
          "state": {
            "_view_name": "StyleView",
            "_model_name": "ProgressStyleModel",
            "description_width": "",
            "_view_module": "@jupyter-widgets/base",
            "_model_module_version": "1.5.0",
            "_view_count": null,
            "_view_module_version": "1.2.0",
            "bar_color": null,
            "_model_module": "@jupyter-widgets/controls"
          }
        },
        "426f18ac8f494cada375d57929f89e29": {
          "model_module": "@jupyter-widgets/base",
          "model_name": "LayoutModel",
          "model_module_version": "1.2.0",
          "state": {
            "_view_name": "LayoutView",
            "grid_template_rows": null,
            "right": null,
            "justify_content": null,
            "_view_module": "@jupyter-widgets/base",
            "overflow": null,
            "_model_module_version": "1.2.0",
            "_view_count": null,
            "flex_flow": null,
            "width": null,
            "min_width": null,
            "border": null,
            "align_items": null,
            "bottom": null,
            "_model_module": "@jupyter-widgets/base",
            "top": null,
            "grid_column": null,
            "overflow_y": null,
            "overflow_x": null,
            "grid_auto_flow": null,
            "grid_area": null,
            "grid_template_columns": null,
            "flex": null,
            "_model_name": "LayoutModel",
            "justify_items": null,
            "grid_row": null,
            "max_height": null,
            "align_content": null,
            "visibility": null,
            "align_self": null,
            "height": null,
            "min_height": null,
            "padding": null,
            "grid_auto_rows": null,
            "grid_gap": null,
            "max_width": null,
            "order": null,
            "_view_module_version": "1.2.0",
            "grid_template_areas": null,
            "object_position": null,
            "object_fit": null,
            "grid_auto_columns": null,
            "margin": null,
            "display": null,
            "left": null
          }
        },
        "3d15e70b3fe142099e86602cc241c607": {
          "model_module": "@jupyter-widgets/controls",
          "model_name": "DescriptionStyleModel",
          "model_module_version": "1.5.0",
          "state": {
            "_view_name": "StyleView",
            "_model_name": "DescriptionStyleModel",
            "description_width": "",
            "_view_module": "@jupyter-widgets/base",
            "_model_module_version": "1.5.0",
            "_view_count": null,
            "_view_module_version": "1.2.0",
            "_model_module": "@jupyter-widgets/controls"
          }
        },
        "dd9268cbd7e1410eb3a7cf182b83b584": {
          "model_module": "@jupyter-widgets/base",
          "model_name": "LayoutModel",
          "model_module_version": "1.2.0",
          "state": {
            "_view_name": "LayoutView",
            "grid_template_rows": null,
            "right": null,
            "justify_content": null,
            "_view_module": "@jupyter-widgets/base",
            "overflow": null,
            "_model_module_version": "1.2.0",
            "_view_count": null,
            "flex_flow": null,
            "width": null,
            "min_width": null,
            "border": null,
            "align_items": null,
            "bottom": null,
            "_model_module": "@jupyter-widgets/base",
            "top": null,
            "grid_column": null,
            "overflow_y": null,
            "overflow_x": null,
            "grid_auto_flow": null,
            "grid_area": null,
            "grid_template_columns": null,
            "flex": null,
            "_model_name": "LayoutModel",
            "justify_items": null,
            "grid_row": null,
            "max_height": null,
            "align_content": null,
            "visibility": null,
            "align_self": null,
            "height": null,
            "min_height": null,
            "padding": null,
            "grid_auto_rows": null,
            "grid_gap": null,
            "max_width": null,
            "order": null,
            "_view_module_version": "1.2.0",
            "grid_template_areas": null,
            "object_position": null,
            "object_fit": null,
            "grid_auto_columns": null,
            "margin": null,
            "display": null,
            "left": null
          }
        }
      }
    }
  },
  "cells": [
    {
      "cell_type": "markdown",
      "metadata": {
        "id": "2fIR744Bmw9n"
      },
      "source": [
        "## 1. Преобразование речи в текст"
      ]
    },
    {
      "cell_type": "markdown",
      "metadata": {
        "id": "gnV0ZfLh3-Bj"
      },
      "source": [
        "Взял маленькую модель vosk-model-small-ru-0.22"
      ]
    },
    {
      "cell_type": "code",
      "metadata": {
        "colab": {
          "base_uri": "https://localhost:8080/"
        },
        "id": "eMx8IkkPypC7",
        "outputId": "e414c89c-c880-47b2-e949-40b875c3ec4f"
      },
      "source": [
        "pip install vosk"
      ],
      "execution_count": null,
      "outputs": [
        {
          "output_type": "stream",
          "name": "stdout",
          "text": [
            "Collecting vosk\n",
            "  Downloading vosk-0.3.32-py3-none-manylinux_2_12_x86_64.manylinux2010_x86_64.whl (6.9 MB)\n",
            "\u001b[K     |████████████████████████████████| 6.9 MB 3.2 MB/s \n",
            "\u001b[?25hRequirement already satisfied: cffi>=1.0 in /usr/local/lib/python3.7/dist-packages (from vosk) (1.14.6)\n",
            "Requirement already satisfied: pycparser in /usr/local/lib/python3.7/dist-packages (from cffi>=1.0->vosk) (2.20)\n",
            "Installing collected packages: vosk\n",
            "Successfully installed vosk-0.3.32\n"
          ]
        }
      ]
    },
    {
      "cell_type": "code",
      "metadata": {
        "colab": {
          "base_uri": "https://localhost:8080/",
          "height": 34
        },
        "id": "YST3HCWXPFPg",
        "outputId": "125d9745-de6e-41a9-eb42-a8c059f605ef"
      },
      "source": [
        "import os\n",
        "os.chdir('vosk/')\n",
        "os.getcwd()"
      ],
      "execution_count": null,
      "outputs": [
        {
          "output_type": "execute_result",
          "data": {
            "application/vnd.google.colaboratory.intrinsic+json": {
              "type": "string"
            },
            "text/plain": [
              "'/content/drive/MyDrive/vosk'"
            ]
          },
          "metadata": {},
          "execution_count": 2
        }
      ]
    },
    {
      "cell_type": "markdown",
      "metadata": {
        "id": "8YZjb0k-m4pv"
      },
      "source": [
        "Ниже я подаю звук с видео (можно было бы и просто видео, но много весит)\n",
        "\n",
        "Скачал звук отсюда: https://www.youtube.com/watch?v=Bm8vFtv5CiM\n",
        "\n",
        "Затем он конвертируется в нужный формат и преобразуется"
      ]
    },
    {
      "cell_type": "code",
      "metadata": {
        "colab": {
          "base_uri": "https://localhost:8080/"
        },
        "id": "U6dxGNtNPcXn",
        "outputId": "1eab5586-0e06-44c4-d2e3-3b0d84c7c3c8"
      },
      "source": [
        "!python test_ffmpeg.py recipe.mp3 > result.txt"
      ],
      "execution_count": null,
      "outputs": [
        {
          "output_type": "stream",
          "name": "stdout",
          "text": [
            "LOG (VoskAPI:ReadDataFiles():model.cc:213) Decoding params beam=10 max-active=3000 lattice-beam=2\n",
            "LOG (VoskAPI:ReadDataFiles():model.cc:216) Silence phones 1:2:3:4:5:6:7:8:9:10\n",
            "LOG (VoskAPI:RemoveOrphanNodes():nnet-nnet.cc:948) Removed 0 orphan nodes.\n",
            "LOG (VoskAPI:RemoveOrphanComponents():nnet-nnet.cc:847) Removing 0 orphan components.\n",
            "LOG (VoskAPI:CompileLooped():nnet-compile-looped.cc:345) Spent 0.0247078 seconds in looped compilation.\n",
            "LOG (VoskAPI:ReadDataFiles():model.cc:248) Loading i-vector extractor from model/ivector/final.ie\n",
            "LOG (VoskAPI:ComputeDerivedVars():ivector-extractor.cc:183) Computing derived variables for iVector extractor\n",
            "LOG (VoskAPI:ComputeDerivedVars():ivector-extractor.cc:204) Done.\n",
            "LOG (VoskAPI:ReadDataFiles():model.cc:281) Loading HCL and G from model/graph/HCLr.fst model/graph/Gr.fst\n",
            "LOG (VoskAPI:ReadDataFiles():model.cc:302) Loading winfo model/graph/phones/word_boundary.int\n"
          ]
        }
      ]
    },
    {
      "cell_type": "code",
      "metadata": {
        "id": "oE8GXrLld3E3"
      },
      "source": [
        "with open(\"result.txt\", \"r\") as f:\n",
        "    data = f.readlines()"
      ],
      "execution_count": null,
      "outputs": []
    },
    {
      "cell_type": "code",
      "metadata": {
        "colab": {
          "base_uri": "https://localhost:8080/"
        },
        "id": "HZgW2hJhnVIj",
        "outputId": "c317413b-ceef-4051-f25c-93400cd8b8a0"
      },
      "source": [
        "data[-50:]"
      ],
      "execution_count": null,
      "outputs": [
        {
          "output_type": "execute_result",
          "data": {
            "text/plain": [
              "['  \"partial\" : \"просто и доступно готовьте с любовью мой тебя здорово друзья если вы готовиться по моих рецепт так отмечается и отправляйте меня своей фото отчёты на инстаграм вам не сложно а мне очень приятно до новой встречи с друзья пока пока\"\\n',\n",
              " '}\\n',\n",
              " '{\\n',\n",
              " '  \"partial\" : \"просто и доступно готовьте с любовью мой тебя здорово друзья если вы готовиться по моих рецепт так отмечается и отправляйте меня своей фото отчёты на инстаграм вам не сложно а мне очень приятно до новой встречи с друзья пока пока\"\\n',\n",
              " '}\\n',\n",
              " '{\\n',\n",
              " '  \"partial\" : \"просто и доступно готовьте с любовью мой тебя здорово друзья если вы готовиться по моих рецепт так отмечается и отправляйте меня своей фото отчёты на инстаграм вам не сложно а мне очень приятно до новой встречи с друзья пока пока\"\\n',\n",
              " '}\\n',\n",
              " '{\\n',\n",
              " '  \"text\" : \"просто и доступно готовьте с любовью мой тебя здорово друзья если вы катается по моих рецепт так отмечается и отправляйте меня своей фото отчёты на инстаграм вам мне сложно а мне очень приятно до новой встречи с друзья пока пока\"\\n',\n",
              " '}\\n',\n",
              " '{\\n',\n",
              " '  \"partial\" : \"\"\\n',\n",
              " '}\\n',\n",
              " '{\\n',\n",
              " '  \"partial\" : \"\"\\n',\n",
              " '}\\n',\n",
              " '{\\n',\n",
              " '  \"partial\" : \"\"\\n',\n",
              " '}\\n',\n",
              " '{\\n',\n",
              " '  \"partial\" : \"\"\\n',\n",
              " '}\\n',\n",
              " '{\\n',\n",
              " '  \"partial\" : \"\"\\n',\n",
              " '}\\n',\n",
              " '{\\n',\n",
              " '  \"partial\" : \"\"\\n',\n",
              " '}\\n',\n",
              " '{\\n',\n",
              " '  \"partial\" : \"\"\\n',\n",
              " '}\\n',\n",
              " '{\\n',\n",
              " '  \"partial\" : \"\"\\n',\n",
              " '}\\n',\n",
              " '{\\n',\n",
              " '  \"partial\" : \"\"\\n',\n",
              " '}\\n',\n",
              " '{\\n',\n",
              " '  \"partial\" : \"\"\\n',\n",
              " '}\\n',\n",
              " '{\\n',\n",
              " '  \"partial\" : \"\"\\n',\n",
              " '}\\n',\n",
              " '{\\n',\n",
              " '  \"partial\" : \"\"\\n',\n",
              " '}\\n',\n",
              " '{\\n',\n",
              " '  \"text\" : \"\"\\n',\n",
              " '}\\n']"
            ]
          },
          "metadata": {},
          "execution_count": 5
        }
      ]
    },
    {
      "cell_type": "markdown",
      "metadata": {
        "id": "6eaXktLqnD6Y"
      },
      "source": [
        "Здесь я очень костыльно оставляю только текст из вывода. Наверное, можно было бы работать как c JSON файлом, но у меня не получилось"
      ]
    },
    {
      "cell_type": "code",
      "metadata": {
        "colab": {
          "base_uri": "https://localhost:8080/"
        },
        "id": "OII4NlFFg26m",
        "outputId": "82f13f21-0c27-4ec9-d116-cbb521f90141"
      },
      "source": [
        "data_clear = list(filter(None, [x.split(':')[1].split('\"')[1] for x in list(filter(lambda x: 'text' in x, data))]))"
      ],
      "execution_count": null,
      "outputs": [
        {
          "output_type": "execute_result",
          "data": {
            "text/plain": [
              "['здравствуйте дорогие друзья мне очень приятно что вы заглянули ко мне на кухню за малым рецептов а сегодня подготовила вам не один а множество рецептов надеюсь вам понравится я старалась и подготовила идею для праздничного стола если вам интересно оставайтесь со мной поехали',\n",
              " 'ну и начнём наверное и закусок и первый вариант это закуска из языком и баклажанами действительно прачечная сытная очень вкусно и а готовиться просто первую очередь нам нужно отварить язык я использую говяжий отправляю ещё холодную воду',\n",
              " 'когда это все закипела уменьшаем огонь добавляют соль лавровый лист смесь перца',\n",
              " 'и варим вырвана на медленном огне примерно два два с половиной часа также я с где-то за час до окончания варки добавила ещё лук и морковь чтобы язык получился ещё аромат них проверяем он уже мягких вилка хорошо выходит снимаю сразу же в ледяную воду для того чтобы было удобно и снять шкур',\n",
              " 'снимать из говяжьего языка шкуру очень просто',\n",
              " 'оставляя язык остывать этим временем я подготовлю баклажаны нарезать их такими кружочками кстати водород сорт баклажана вообще очень костной не горчит и с ним работать одно удовольствие очень красивой по солю их по вкусу и добавила ещё розмарина',\n",
              " 'с брызнула это все маслом и на тру каждый кусочек маслом и специями вот так вот хорошо перемешать',\n",
              " 'отправляю это все она хорошо раскалённой электра гриль конечно вы можете баклажаны просто запечь в духовке поджаривают буквально минутки три и все готово',\n",
              " 'за это время уже и язык остынет нарезая его вот таким вот образом но скажу честно заготовку для ты закуски я всегда готовлюсь вечера вчера отворила а сегодня можно собирается кусков',\n",
              " 'ну и конечно же подготовим соус я купил вот такой вот уже готовый ху нос магазине меня классическим вкус он достаточно густой ты я решила добавить сюда ещё растительного масла конечно же для остроты перчик сольные добавляет а так уже все итак доведено до вкуса ним',\n",
              " 'ложечка сушёного чеснока и это все хорошо перемешиваем вот такая вот поста бразные очень красиво масса получилось когда вкусные и полезные майонез отличная альтернатива и все можем собирает закуску берег баклажан язык',\n",
              " 'снова такие баклажан соус и язык и вот таким вот образом череду это гости берут баклажан соусом из языком и получается очень вкусно и сочетание вроде бы простая но не обычная закусочная украшен ещё зеленью я купил а вот такое митры зелень и может подавать к',\n",
              " 'того простые продукты но очень красиво и самое главное что вкусно моим гостям точно понравилась такая закуска потому что она вся разошлась',\n",
              " 'следующим рецептом хочу предложить вам вкусная и необычное бутерброды которые действительно украсить любой праздничный стол',\n",
              " 'багет нарезаю вот таким вот образом можно использовать конечно же и гренки вообщем что у вас есть что вам нравится можно их подсушить мы честно скажу меня уже и не было времени потому что уже собирались гости но и на свежем багеты это тоже очень вкусно беру сыр моем случае это',\n",
              " 'брынза можно использовать моцарелла мне нравится нарезать на кружочки можно использовать сливочный сыр что у вас есть и выкладываю кусочек хамона или тонко нарезанного и ка',\n",
              " 'второй вариант с хамона это я взяла тот же сыр и добавила ложечку соуса песто признаюсь честно я всегда покупаю готовая вот я один вариант сделала и сыром рукколой и мясом второй вариант и сыром паста и конечно же хамона',\n",
              " 'второй вид бутерброда вы меня был багет намаза на и сливочным сыром рукава и кусочек слабосолёной рыбы которую я сама готовлю тоже просто и вкусно',\n",
              " 'выкладываем на блюдо и бутерброды готовы готовиться нереально просто красиво смотрятся на столе и очень интересно для гостей им нравится что то необычное но то же время яркое и вкусные',\n",
              " 'ну а это закуска любимая закуска моего мужа тарталетки с печенью трески готовятся тоже нереально просто берём баночку и печени трески',\n",
              " 'по мну вилка и все',\n",
              " 'добавлю сюда два натёртый яйца',\n",
              " 'и конечно же честны тёк по вкусу добавляйте',\n",
              " 'за правлю это все мои мясом и начинка готова просто нежно и очень вкусно в тарталетки добавлю листик салата наполнил её начинкой',\n",
              " 'огурчик для красоты и для вкуса конечно же если хотите можно огурец добавить просто в начинку и все готово пару минут быстрое вкусная закуска уже на столе',\n",
              " 'а это уже моя любимая закуска',\n",
              " 'одно авокадо нарезаем мелкими кубиками сегодня у меня не очень и авокадо для этой закуски мне больше всего нравятся все таки немножко твердо ваты авокадо',\n",
              " 'помидорка нарезала тоже небольшим кубиком в поселила это все добавила чеснок и сок лимона',\n",
              " 'перемешиваем закуска готова выкладываю уже она готовые гренки конечно же можно подсушить гренки ночи о батя такая закуска очень вкусная',\n",
              " 'выкладываю на тарелку ещё при сыпала чёрным кунжутом поверьте это закуска ничем не уступает бутербродом с красной рыбой для девушек это то что нужно все любят такие бутерброды ке',\n",
              " 'следующими приготовим помидоры с грибами',\n",
              " 'и грибы нарезать небольшими кубиками обжариваем на небольшом количестве растительного масла до тех пор пока из них не испарится вся влага и не станут золотистыми также грибочки обязательно нужно посолить по вкусу',\n",
              " 'даю им остыть',\n",
              " 'добавляете до натёртой твёрдый сыр сырая добавляем много так люблю чтобы было много сыра',\n",
              " 'чеснок по курсу',\n",
              " 'и заправляют также майонеза все перемешай и начинкой для помидор готова',\n",
              " 'ну и конечно же основной ингредиент этой закуски это помидоры нарезаем их такими толстыми кружочками',\n",
              " 'выкладываю она тарелку которое я вас тела и листьями салата это закуска тоже готовится буквально за считанные минуты очень часто готовлю на праздничный стол в потому что это просто приготовления и к тому же над поверьте понравиться абсолютно всем но и сверху конечно же выкладываем начинку все просто как',\n",
              " 'по мне красиво самое главное что вкусно',\n",
              " 'дальше вашему вниманию хочу предложить рецепт салата сегодня на моем праздничном столе не будет никаких салат с майонезом а вот такой вот закусочной салат начинаем из того что нужно подготовить курицу куриное филе нарезать большим кубиком кстати вы можете его заменить и на филе бедра тоже будет ещё',\n",
              " 'вкуснее и сочнее добавлю растительного масла',\n",
              " 'соли',\n",
              " 'и приправу курица у меня уже готовая смесь все хорошо перемешиваем и оставляем и минут пятнадцать чтобы мяско про маринова лась',\n",
              " 'отправляя его на хорошо раскалённую сковороду без масла и на среднем огне обжаривают до золотистого цвета',\n",
              " 'пускай остывает я подготовила остальные продукты и теперь давайте собирал салат на дно большого блюдом берём листья салата можно взять микс сегодня я беру ру колу и миг разделе него такое',\n",
              " 'добавляю небольшие кри манкис хума сам и также я взяла у приманку маслины можно эти маслины просто разбросать по салатов',\n",
              " 'полосками выкладываю нарезанные помидоры',\n",
              " 'уже остывшую курицу',\n",
              " 'также большим о такими кусками нарезаю огурец',\n",
              " 'тоже выкладывала таким образом',\n",
              " 'сыр фета нарезаем кубиками',\n",
              " 'и поливают соусом друзья как я готовила этот соус будет следующих рецептах идея готовлю овощи гриль',\n",
              " 'ну и какой же праздничный стол без шикарные мясной нарезки сегодня я подготовила отличную идею как сделать такую мясную доску с сыром я обязательно покажу в одном из следующих роликов',\n",
              " 'ни один праздник нашей семье не проходит без утки и конечно же этот рецептик уже есть на моем канале как готовить вкусные утка с яблоками я ссылочку оставлю в описании под этим видео чтобы не делать слишком длинный этот ролик но уверяю вас приготовьте такую утку на прачечной стол и в будете в восторге',\n",
              " 'и в качестве основного горячего блюда я сегодня подавала запечённые стояки с рыбы',\n",
              " 'когда мы пошли за покупками в нашем супермаркете была акция на целое лосось вот такой вот он небольшой до двух килограмм',\n",
              " 'очистили от плоский и нарезаем на стайки конечно же вы таким образом можете приготовить и филе другое рыбу лосось естественно получается очень вкусно и сочным и более что это достаточно жирная рыба нарезаю настойки а из головы и обрезков конечно же будет вкус',\n",
              " 'зная и ароматная уха',\n",
              " 'подготовленные стайки я выкладывая на про твин который выстрелами пергаментом в по солью немножечко соли много не добавляйте добавлю смесь специи к рыбе кстати специи у меня без соли и сверху добавлю натёртый на мелкой тёрке пармезан именно пармезан придаст необычный вкус для этой рыбки',\n",
              " 'отправлю всех духовку разогретую до двухста градусов на пятнадцать двадцать пять минут все зависит конечно же от величины стойка так как у меня они небольшие эту пятнадцать минут было более чем достаточно я кстати рыбе подготовила ещё отворила брокколи честно скажу во время съёмки я просто забыла добавить к рыбе но на праздничный стол я подавала и',\n",
              " 'именно с брокколи и о такое сочетание то что нужно рыбка капуста бомбах',\n",
              " 'и к этому столу я ещё приготовила овощи гриль к тому же сейчас осень как раз сезон овощи такие достаточно доступные перцы растут и ещё на огороде это блюдо и вкусное и бюджетные',\n",
              " 'сладкий перец очищаю и нарезаем вот таким вот образом я использовала четыре перца два красных и два жёлтых',\n",
              " 'отправляю большую миску где я буду мариновать все овощи баклажаны также нарезаю но уже не кружочками а вот такими большими кусками большими кубиками',\n",
              " 'также отправляю миску к овощам',\n",
              " 'кабачок нарезаем кружочками эти все овощи друзья я буду запекать на электродрели но хочу повторить что если у вас его нет все так же делаете выкладывайте на противень и запекать в духовке пятнадцать двадцать минут при двухста градусов будет достаточно у меня осталось немножко шампиньонов они конечно же не обязательно',\n",
              " 'но я готовила закуску грамм двести осталось то решила тоже добавить к овощам они к тому же получается тоже очень вкусными разрезала пополам так удобнее запекать это все нужно хорошо посолить перца добавить',\n",
              " 'с проездной все маслом',\n",
              " 'и конечно же все хорошо нужно перемешать',\n",
              " 'но и все овощи я буду жарить на хорошо раскалённом электродрели на ещё раз повторюсь что духовка тоже отличная альтернатива для такого блюдо тем более что жаре такие овощи очень просто и быстро я все процесса не показываю вам конечно же как я выкладываю все овощи',\n",
              " 'но готовятся все по тому же принципу но я отдельно обжаривают там перец баклажаны грибы и все обжаривайте отдельно дальше подготовлю соус заправку которую я использовала и для салата и для овощей гриль мирян чеснок измельчённой добавила сюда горчицу в зерна и обычную горчицу',\n",
              " 'конечно же сок лимона',\n",
              " 'соевый соус все хорошо перемешайте и добавила ещё немножечко растительного масла но это уже по желанию принципе мы в овощи добавляли масла то можете не добавлять но так аромат не получается тебя заправка готова к этой пропорции у меня было достаточно и для салата и для овощей гриль что овощи что сама',\n",
              " 'от этой заправка я поливаю уже когда все стоит на столе вот собрались гости и только тогда поливаем все заправок подавать а овощи буду в таком блюде на дно добавлю зелень кто-то по желанию это скорее всего для красоты',\n",
              " 'и выложим овощи',\n",
              " 'кабачки мы уже собирать и подавать это закуску вы можете уже так как позволяет ваша фантазия',\n",
              " 'я под вот таким вот образом как по мне это красиво и просто к тому же',\n",
              " 'украшают зеленью и можно подавать мне есть такая красивая подставка подогрев накрываем крышкой и такая закуской всегда будет тёплая',\n",
              " 'мы и праздничный стол без десерта это не праздничный стол самые вкусные и любимой десерт моей семье и моих друзей это конечно же тирамису я люблю его готовить это просто но и получается очень и очень вкусно желтком добавляю сахар и взбивают у все массу добела',\n",
              " 'хорошо взбитые желтки я добавляю маскарпоне эти все продуктов должны быть из холодильника что холодное жуки что холодная маскарпоне и вот в итоге такая пышная масса получилось',\n",
              " 'дальше берём белке добавлю немножечко соли и в забьёт до устойчивых пиков',\n",
              " 'сбитая белки ввожу в сливочное масло',\n",
              " 'и все вот такой вот воздушные и безумно вкусно и крем готов',\n",
              " 'нужно подготовить сироп в котором я буду маки вать слова ярде берём кофе эспрессо',\n",
              " 'и добавила немножечко виски конечно же алкоголь может быть абсолютно любым а можно и вообще не использовать так если вы готовите для детей',\n",
              " 'подавать это десерты буду порционно берём стаканчике на дно которых обязательно нужно добавить крем',\n",
              " 'печенье сова ярде я разломов её и обмотки вы у кофе и буквально одну секунду',\n",
              " 'печенье покрываем крема для того чтобы было удобно собирать десерт я крем выложила в мешок',\n",
              " 'и каждый стаканчик посыпаем какао но это уже по желанию на я люблю более насыщенный вкус какао снова такие идут печенье',\n",
              " 'сверху снова таки покрываем все кремом но я много крема не добавляют а как хочу ещё украсить',\n",
              " 'с помощью крема делаю вот такие вот звёздочки украшая меня есть насадка конечно же это не обязательно анта какая-то праздничный стол то мне смотрится так красивее',\n",
              " 'конечно же посыпаем все какао',\n",
              " 'и все можно наслаждаться желательно такое десерт приготовить заранее я всегда готов ли с вечера а на следующий день подают к столу на два часа для пропитки будет более чем достаточно',\n",
              " 'так как мы праздновали годовщину нашей свадьбы ещё подготовила вот такой вот чизкейк которое называется фраера роше лице приготовления которого вы скоро уже сможете увидеть на моем канале',\n",
              " 'ну что ж грозя я надеюсь то хотя бы один из этих рецепта и идея вам понравился и вы обязательно приготовиться и себе на праздничной стало ну а если же вам понравилась такая видео подписывайтесь на мой канал не забывайте нажать на колокольчик чтобы получать уведомления о новых видеорецептов до новой встречи всегда наказали вкус',\n",
              " 'просто и доступно готовьте с любовью мой тебя здорово друзья если вы катается по моих рецепт так отмечается и отправляйте меня своей фото отчёты на инстаграм вам мне сложно а мне очень приятно до новой встречи с друзья пока пока']"
            ]
          },
          "metadata": {},
          "execution_count": 6
        }
      ]
    },
    {
      "cell_type": "markdown",
      "metadata": {
        "id": "pPmwHNxSoIYK"
      },
      "source": [
        "## Расстановка знаков препинания"
      ]
    },
    {
      "cell_type": "code",
      "metadata": {
        "id": "_b5bXZjgrg6b"
      },
      "source": [
        "os.chdir('commas/')"
      ],
      "execution_count": null,
      "outputs": []
    },
    {
      "cell_type": "code",
      "metadata": {
        "colab": {
          "base_uri": "https://localhost:8080/"
        },
        "id": "fGa6RqnVrbsP",
        "outputId": "da66b57b-3dff-4a26-f64f-22aba73b5e08"
      },
      "source": [
        "pip install -r requirements.txt"
      ],
      "execution_count": null,
      "outputs": [
        {
          "output_type": "stream",
          "name": "stdout",
          "text": [
            "Collecting labml==0.4.125\n",
            "  Downloading labml-0.4.125-py3-none-any.whl (117 kB)\n",
            "\u001b[K     |████████████████████████████████| 117 kB 5.4 MB/s \n",
            "\u001b[?25hCollecting transformers==4.7.0\n",
            "  Downloading transformers-4.7.0-py3-none-any.whl (2.5 MB)\n",
            "\u001b[K     |████████████████████████████████| 2.5 MB 31.0 MB/s \n",
            "\u001b[?25hCollecting gitpython\n",
            "  Downloading GitPython-3.1.24-py3-none-any.whl (180 kB)\n",
            "\u001b[K     |████████████████████████████████| 180 kB 48.6 MB/s \n",
            "\u001b[?25hRequirement already satisfied: numpy in /usr/local/lib/python3.7/dist-packages (from labml==0.4.125->-r requirements.txt (line 1)) (1.19.5)\n",
            "Requirement already satisfied: pyyaml in /usr/local/lib/python3.7/dist-packages (from labml==0.4.125->-r requirements.txt (line 1)) (3.13)\n",
            "Collecting huggingface-hub==0.0.8\n",
            "  Downloading huggingface_hub-0.0.8-py3-none-any.whl (34 kB)\n",
            "Requirement already satisfied: tqdm>=4.27 in /usr/local/lib/python3.7/dist-packages (from transformers==4.7.0->-r requirements.txt (line 2)) (4.62.3)\n",
            "Requirement already satisfied: filelock in /usr/local/lib/python3.7/dist-packages (from transformers==4.7.0->-r requirements.txt (line 2)) (3.3.0)\n",
            "Requirement already satisfied: importlib-metadata in /usr/local/lib/python3.7/dist-packages (from transformers==4.7.0->-r requirements.txt (line 2)) (4.8.1)\n",
            "Requirement already satisfied: regex!=2019.12.17 in /usr/local/lib/python3.7/dist-packages (from transformers==4.7.0->-r requirements.txt (line 2)) (2019.12.20)\n",
            "Collecting tokenizers<0.11,>=0.10.1\n",
            "  Downloading tokenizers-0.10.3-cp37-cp37m-manylinux_2_5_x86_64.manylinux1_x86_64.manylinux_2_12_x86_64.manylinux2010_x86_64.whl (3.3 MB)\n",
            "\u001b[K     |████████████████████████████████| 3.3 MB 35.6 MB/s \n",
            "\u001b[?25hRequirement already satisfied: packaging in /usr/local/lib/python3.7/dist-packages (from transformers==4.7.0->-r requirements.txt (line 2)) (21.0)\n",
            "Requirement already satisfied: requests in /usr/local/lib/python3.7/dist-packages (from transformers==4.7.0->-r requirements.txt (line 2)) (2.23.0)\n",
            "Collecting sacremoses\n",
            "  Downloading sacremoses-0.0.46-py3-none-any.whl (895 kB)\n",
            "\u001b[K     |████████████████████████████████| 895 kB 37.0 MB/s \n",
            "\u001b[?25hCollecting gitdb<5,>=4.0.1\n",
            "  Downloading gitdb-4.0.9-py3-none-any.whl (63 kB)\n",
            "\u001b[K     |████████████████████████████████| 63 kB 1.7 MB/s \n",
            "\u001b[?25hRequirement already satisfied: typing-extensions>=3.7.4.3 in /usr/local/lib/python3.7/dist-packages (from gitpython->labml==0.4.125->-r requirements.txt (line 1)) (3.7.4.3)\n",
            "Collecting smmap<6,>=3.0.1\n",
            "  Downloading smmap-5.0.0-py3-none-any.whl (24 kB)\n",
            "Requirement already satisfied: zipp>=0.5 in /usr/local/lib/python3.7/dist-packages (from importlib-metadata->transformers==4.7.0->-r requirements.txt (line 2)) (3.6.0)\n",
            "Requirement already satisfied: pyparsing>=2.0.2 in /usr/local/lib/python3.7/dist-packages (from packaging->transformers==4.7.0->-r requirements.txt (line 2)) (2.4.7)\n",
            "Requirement already satisfied: chardet<4,>=3.0.2 in /usr/local/lib/python3.7/dist-packages (from requests->transformers==4.7.0->-r requirements.txt (line 2)) (3.0.4)\n",
            "Requirement already satisfied: idna<3,>=2.5 in /usr/local/lib/python3.7/dist-packages (from requests->transformers==4.7.0->-r requirements.txt (line 2)) (2.10)\n",
            "Requirement already satisfied: certifi>=2017.4.17 in /usr/local/lib/python3.7/dist-packages (from requests->transformers==4.7.0->-r requirements.txt (line 2)) (2021.5.30)\n",
            "Requirement already satisfied: urllib3!=1.25.0,!=1.25.1,<1.26,>=1.21.1 in /usr/local/lib/python3.7/dist-packages (from requests->transformers==4.7.0->-r requirements.txt (line 2)) (1.24.3)\n",
            "Requirement already satisfied: click in /usr/local/lib/python3.7/dist-packages (from sacremoses->transformers==4.7.0->-r requirements.txt (line 2)) (7.1.2)\n",
            "Requirement already satisfied: joblib in /usr/local/lib/python3.7/dist-packages (from sacremoses->transformers==4.7.0->-r requirements.txt (line 2)) (1.0.1)\n",
            "Requirement already satisfied: six in /usr/local/lib/python3.7/dist-packages (from sacremoses->transformers==4.7.0->-r requirements.txt (line 2)) (1.15.0)\n",
            "Installing collected packages: smmap, gitdb, tokenizers, sacremoses, huggingface-hub, gitpython, transformers, labml\n",
            "Successfully installed gitdb-4.0.9 gitpython-3.1.24 huggingface-hub-0.0.8 labml-0.4.125 sacremoses-0.0.46 smmap-5.0.0 tokenizers-0.10.3 transformers-4.7.0\n"
          ]
        }
      ]
    },
    {
      "cell_type": "code",
      "metadata": {
        "colab": {
          "base_uri": "https://localhost:8080/",
          "height": 34
        },
        "id": "eoHvynXSLLIJ",
        "outputId": "ce7c2b8a-86a8-4521-932a-103b6c80889b"
      },
      "source": [
        "os.chdir('commas/src')\n",
        "os.getcwd()"
      ],
      "execution_count": null,
      "outputs": [
        {
          "output_type": "execute_result",
          "data": {
            "application/vnd.google.colaboratory.intrinsic+json": {
              "type": "string"
            },
            "text/plain": [
              "'/content/drive/MyDrive/commas/src'"
            ]
          },
          "metadata": {},
          "execution_count": 11
        }
      ]
    },
    {
      "cell_type": "code",
      "metadata": {
        "id": "CZ_n4yrXolQ_"
      },
      "source": [
        "from pathlib import Path\n",
        "\n",
        "import torch\n",
        "\n",
        "from neuro_comma.predict import RepunctPredictor\n",
        "from neuro_comma.model import CorrectionModel"
      ],
      "execution_count": null,
      "outputs": []
    },
    {
      "cell_type": "markdown",
      "metadata": {
        "id": "HkCD-7TfocYU"
      },
      "source": [
        "**Параметры**\n",
        "\n",
        "1. pretrained_model – название предобученной модели. Здесь использовалась Sentence RuBERT (Russian, cased, 12-layer, 768-hidden, 12-heads, 180M parameters)\n",
        "2. targets — признаки. \"O\" — нет знака препинания, \"COMMA\" — запятая, \"PERIOD\" — точка"
      ]
    },
    {
      "cell_type": "code",
      "metadata": {
        "id": "sHyVii1QpQsh",
        "colab": {
          "base_uri": "https://localhost:8080/",
          "height": 81,
          "referenced_widgets": [
            "e67577e99bb24c5e93f3a97c0cb92dec",
            "709769c4a81142f9b93f797cbfb29412",
            "b5421b2a998945ffab1deed7b423680f",
            "b57277ec8f6e41d0b51fb10d8314712b",
            "3d7b5f5fe51b4d608fa0c2c52b64dcc3",
            "c2722eb9e7f34592be3dca82446bf8f0",
            "a201c7fff58a4bdf9d2fd35aab20d1cc",
            "fc70627c85d0461eb0fa49c1a78908e3",
            "fd34d20517b14c539eba8fcdf3eae2d6",
            "32c24e52ef874e9eada5cf76b25b2973",
            "c0ecf85d7d4142388a1e727213402211",
            "ae0ee99d0c7241cf9fc860bd54b49e1b",
            "f6d7befc829f480bb9e64a2c5c1b8799",
            "098e0efa09c54e5b9030bf04230cad23",
            "30c48a1172994954be0c8539260f4bd4",
            "8ccdcbb4ff8d4442afd8e4280ea5b258",
            "4cea617a80d9498a88ee8e1ba8bbfebe",
            "870e87fdde6042f19d57ef14c1037499",
            "14fb674fe7534210a6955b757c080583",
            "1537a872072448ac9313c89ef1b62082",
            "f1d315c4200a40a88599f3bc5194751e",
            "654f06df490f4186b0b9d9424812db89"
          ]
        },
        "outputId": "0b17f824-131d-4b65-c39f-fc3715d8d8c3"
      },
      "source": [
        "model = CorrectionModel(\n",
        "    pretrained_model=\"DeepPavlov/rubert-base-cased-sentence\",\n",
        "    targets={\n",
        "        \"O\": 0,\n",
        "        \"COMMA\": 1,\n",
        "        \"PERIOD\": 2\n",
        "    }\n",
        ")"
      ],
      "execution_count": null,
      "outputs": [
        {
          "output_type": "display_data",
          "data": {
            "application/vnd.jupyter.widget-view+json": {
              "model_id": "e67577e99bb24c5e93f3a97c0cb92dec",
              "version_minor": 0,
              "version_major": 2
            },
            "text/plain": [
              "Downloading:   0%|          | 0.00/642 [00:00<?, ?B/s]"
            ]
          },
          "metadata": {}
        },
        {
          "output_type": "display_data",
          "data": {
            "application/vnd.jupyter.widget-view+json": {
              "model_id": "ae0ee99d0c7241cf9fc860bd54b49e1b",
              "version_minor": 0,
              "version_major": 2
            },
            "text/plain": [
              "Downloading:   0%|          | 0.00/711M [00:00<?, ?B/s]"
            ]
          },
          "metadata": {}
        }
      ]
    },
    {
      "cell_type": "code",
      "metadata": {
        "id": "jLYQjX7ZCOUX"
      },
      "source": [
        "model.load('../models/repunct-model-new/weights/weights_ep6_9912.pt')"
      ],
      "execution_count": null,
      "outputs": []
    },
    {
      "cell_type": "code",
      "metadata": {
        "id": "O2vN1whACVnS"
      },
      "source": [
        "quantized_model = model.quantize()"
      ],
      "execution_count": null,
      "outputs": []
    },
    {
      "cell_type": "code",
      "metadata": {
        "id": "lw-6KSpfCaef"
      },
      "source": [
        "quantized_model.save('../models/repunct-model-new/weights/quantized_weights_ep6_9912.pt')"
      ],
      "execution_count": null,
      "outputs": []
    },
    {
      "cell_type": "markdown",
      "metadata": {
        "id": "1eX0E13foUq6"
      },
      "source": [
        "**Параметры**\n",
        "\n",
        "1. model_name — название дообученной модели, которая будет использована для расстановки запятых\n",
        "2. models_root — путь на диске, где находится модель\n",
        "3. models_weights — веса модели\n",
        "4. quantization – нужна ли квантизация. Это метод уменьшения размера обученной нейросети"
      ]
    },
    {
      "cell_type": "code",
      "metadata": {
        "colab": {
          "base_uri": "https://localhost:8080/",
          "height": 112,
          "referenced_widgets": [
            "3151e68c6c67455e986d07ce5053f7c9",
            "c0df1097490e461db76855846865ba89",
            "794727279e2c4ff4b48e1d76dee9d0ad",
            "b113be93518648dabd8dba2c77a5b80c",
            "bb741802a3054424a74aabb9173a15fd",
            "aa3e2918b8184c7995fc316746c6eedc",
            "5d886c34041f40bb952d2b648166c359",
            "89597b46caba4af08a02e5d2a845d191",
            "6288f1e299434943a0a40817341af1e1",
            "17b3bac30ebf4a6688f1a40e47023434",
            "4423228c690b47fd971f57e7d902d0ca",
            "90965f5d743649a8b85f3484c1e4f7f3",
            "a4fee0221c65419785c6e03ab24639af",
            "57e584c0baec464c8b6cd5e21486b865",
            "ebdfca89cffe4894964f4e3bf9dab7c0",
            "e59c8b038b684bfda89a6fe0636c0ce3",
            "7be29ab45f304366bf43611e4d504f78",
            "5f80b88d4d5942aab20a42df0252509c",
            "b7b0fbf3fd534bed97dba7da616cf6db",
            "3f1c73b26c16433bbad4c6b8ea49f2a6",
            "f603aaa29e4b40878bd7edb9301fc31a",
            "7150eba624804afba616f27a7c40d81f",
            "053cc9a2d98a48008ce786837c3f2729",
            "5f86f209fae5449fb50ae9fd1a975c18",
            "32d3d02fa19043ecbfb625fb551de187",
            "9d68387dea124ba393947f9413b601cb",
            "52387f834f624739ac154836297d9166",
            "15bec3538a274cacbabd42b7a71edea9",
            "41f17509730349a7b899c32716b88439",
            "00f62c3a1ec640f182bf754332fc6ee6",
            "426f18ac8f494cada375d57929f89e29",
            "3d15e70b3fe142099e86602cc241c607",
            "dd9268cbd7e1410eb3a7cf182b83b584"
          ]
        },
        "id": "YMnk4KSmCfR6",
        "outputId": "b440ce35-1345-4a89-e46b-39a18fc21b49"
      },
      "source": [
        "predictor = RepunctPredictor(model_name='repunct-model-new',\n",
        "                             models_root=Path('../models'),\n",
        "                             model_weights='quantized_weights_ep6_9912.pt',\n",
        "                             quantization=True)"
      ],
      "execution_count": null,
      "outputs": [
        {
          "output_type": "display_data",
          "data": {
            "application/vnd.jupyter.widget-view+json": {
              "model_id": "3151e68c6c67455e986d07ce5053f7c9",
              "version_minor": 0,
              "version_major": 2
            },
            "text/plain": [
              "Downloading:   0%|          | 0.00/1.65M [00:00<?, ?B/s]"
            ]
          },
          "metadata": {}
        },
        {
          "output_type": "display_data",
          "data": {
            "application/vnd.jupyter.widget-view+json": {
              "model_id": "90965f5d743649a8b85f3484c1e4f7f3",
              "version_minor": 0,
              "version_major": 2
            },
            "text/plain": [
              "Downloading:   0%|          | 0.00/112 [00:00<?, ?B/s]"
            ]
          },
          "metadata": {}
        },
        {
          "output_type": "display_data",
          "data": {
            "application/vnd.jupyter.widget-view+json": {
              "model_id": "053cc9a2d98a48008ce786837c3f2729",
              "version_minor": 0,
              "version_major": 2
            },
            "text/plain": [
              "Downloading:   0%|          | 0.00/24.0 [00:00<?, ?B/s]"
            ]
          },
          "metadata": {}
        }
      ]
    },
    {
      "cell_type": "markdown",
      "metadata": {
        "id": "qpjB1x9f3iWO"
      },
      "source": [
        "Вот что получается. Заглавные буквы в начале фразы выставляю вручную\n"
      ]
    },
    {
      "cell_type": "code",
      "metadata": {
        "colab": {
          "base_uri": "https://localhost:8080/"
        },
        "id": "ITtwDSZRCojd",
        "outputId": "ed4d1191-9e40-4146-8bc0-46e156c70aa8"
      },
      "source": [
        "for sentence in data_clear:\n",
        "  print(predictor(sentence).capitalize(), end = '\\n')"
      ],
      "execution_count": null,
      "outputs": [
        {
          "output_type": "stream",
          "name": "stdout",
          "text": [
            "Здравствуйте, дорогие друзья, мне очень приятно, что вы заглянули ко мне на кухню за малым рецептов, а сегодня подготовила вам не один, а множество рецептов, надеюсь, вам понравится, я старалась и подготовила идею для праздничного стола, если вам интересно, оставайтесь со мной, поехали\n",
            "Ну и начнём, наверное, и закусок, и первый вариант это закуска из языком и баклажанами, действительно прачечная, сытная очень вкусно и а готовиться просто первую очередь нам нужно отварить язык, я использую говяжий, отправляю ещё холодную воду\n",
            "Когда это все закипела, уменьшаем огонь, добавляют соль, лавровый лист, смесь перца\n",
            "И варим вырвана на медленном огне примерно два два с половиной часа, также я с где-то за час до окончания варки добавила ещё лук и морковь, чтобы язык получился ещё аромат них проверяем он уже мягких вилка хорошо выходит, снимаю сразу же в ледяную воду для того, чтобы было удобно и снять шкур\n",
            "Снимать из говяжьего языка шкуру очень просто\n",
            "Оставляя язык остывать этим временем, я подготовлю баклажаны, нарезать их такими кружочками, кстати, водород сорт баклажана вообще очень костной, не горчит и с ним работать одно удовольствие очень красивой по солю их по вкусу и добавила ещё розмарина\n",
            "С брызнула это все маслом и на тру каждый кусочек маслом и специями вот так вот хорошо перемешать\n",
            "Отправляю это все она хорошо раскалённой электра гриль, конечно, вы можете баклажаны просто запечь в духовке, поджаривают буквально минутки три, и все готово\n",
            "За это время уже и язык остынет, нарезая его вот таким вот образом, но скажу честно заготовку для ты закуски я всегда готовлюсь вечера вчера отворила, а сегодня можно собирается кусков\n",
            "Ну и, конечно же, подготовим соус я купил вот такой вот уже готовый ху нос магазине меня классическим, вкус он достаточно густой, ты я решила добавить сюда ещё растительного масла, конечно же, для остроты перчик сольные добавляет а так уже все итак доведено до вкуса ним\n",
            "Ложечка сушёного чеснока, и это все хорошо перемешиваем, вот такая вот поста бразные очень красиво масса получилось, когда вкусные и полезные майонез отличная альтернатива, и все можем собирает закуску берег, баклажан, язык\n",
            "Снова такие баклажан, соус и язык, и вот таким вот образом череду это гости берут баклажан соусом из языком и получается очень вкусно и сочетание вроде бы простая, но не обычная закусочная, украшен ещё зеленью, я купил, а вот такое митры зелень и может подавать к\n",
            "Того, простые продукты, но очень красиво, и самое главное, что вкусно моим гостям точно понравилась такая закуска, потому что она вся разошлась\n",
            "Следующим рецептом хочу предложить вам вкусная и необычное бутерброды, которые действительно украсить любой праздничный стол.\n",
            "Багет нарезаю, вот таким вот образом можно использовать, конечно же, и гренки вообщем, что у вас есть что вам нравится, можно их подсушить, мы, честно скажу, меня уже и не было времени, потому что уже собирались гости, но и на свежем багеты это тоже очень вкусно беру сыр, моем случае это\n",
            "Брынза можно использовать моцарелла, мне нравится нарезать на кружочки, можно использовать сливочный сыр, что у вас есть, и выкладываю кусочек хамона или тонко нарезанного и ка\n",
            "Второй вариант с хамона это я взяла тот же сыр и добавила ложечку соуса песто, признаюсь честно, я всегда покупаю готовая вот я один вариант сделала и сыром рукколой, и мясом, второй вариант и сыром паста, и, конечно же, хамона\n",
            "Второй вид бутерброда вы меня был багет намаза на и сливочным сыром, рукава и кусочек слабосолёной рыбы, которую я сама готовлю, тоже просто и вкусно\n",
            "Выкладываем на блюдо, и бутерброды готовы готовиться нереально просто красиво смотрятся на столе и очень интересно для гостей, им нравится что то необычное, но то же время яркое и вкусные\n",
            "Ну а это закуска, любимая закуска моего мужа тарталетки с печенью трески готовятся тоже нереально просто берём баночку и печени трески\n",
            "По мну вилка и все\n",
            "Добавлю сюда два натёртый яйца\n",
            "И, конечно же, честны тёк по вкусу добавляйте\n",
            "За правлю это все мои мясом и начинка готова просто нежно и очень вкусно в тарталетки добавлю листик салата, наполнил её начинкой\n",
            "Огурчик для красоты и для вкуса, конечно же, если хотите, можно огурец добавить просто в начинку, и все готово пару минут быстрое вкусная закуска уже на столе\n",
            "А это уже моя любимая закуска\n",
            "Одно авокадо нарезаем мелкими кубиками, сегодня у меня не очень и авокадо для этой закуски мне больше всего нравятся, все таки немножко твердо ваты авокадо\n",
            "Помидорка нарезала тоже небольшим кубиком, в поселила это все, добавила чеснок и сок лимона.\n",
            "Перемешиваем, закуска готова, выкладываю уже она готовые гренки, конечно же, можно подсушить гренки ночи о батя такая закуска очень вкусная,\n",
            "Выкладываю на тарелку, ещё при сыпала чёрным кунжутом, поверьте, это закуска ничем не уступает бутербродом с красной рыбой, для девушек это то, что нужно все любят такие бутерброды ке\n",
            "Следующими приготовим помидоры с грибами\n",
            "И грибы нарезать небольшими кубиками, обжариваем на небольшом количестве растительного масла до тех пор, пока из них не испарится вся влага и не станут золотистыми, также грибочки обязательно нужно посолить по вкусу.\n",
            "Даю им остыть\n",
            "Добавляете до натёртой твёрдый сыр сырая добавляем много так люблю, чтобы было много сыра\n",
            "Чеснок по курсу\n",
            "И заправляют также майонеза, все перемешай и начинкой для помидор готова\n",
            "Ну и, конечно же, основной ингредиент этой закуски это помидоры, нарезаем их такими толстыми кружочками,\n",
            "Выкладываю она тарелку, которое я вас тела и листьями салата, это закуска тоже готовится буквально за считанные минуты очень часто готовлю на праздничный стол в потому что это просто приготовления, и к тому же над поверьте понравиться абсолютно всем, но и сверху, конечно же, выкладываем начинку все просто как\n",
            "По мне красиво, самое главное, что вкусно,\n",
            "Дальше вашему вниманию хочу предложить рецепт салата сегодня на моем праздничном столе не будет никаких салат с майонезом, а вот такой вот закусочной салат начинаем из того, что нужно подготовить курицу, куриное филе нарезать большим кубиком, кстати, вы можете его заменить и на филе бедра тоже будет ещё\n",
            "Вкуснее и сочнее, добавлю растительного масла,\n",
            "Соли\n",
            "И приправу курица, у меня уже готовая смесь, все хорошо перемешиваем и оставляем и минут пятнадцать, чтобы мяско про маринова лась\n",
            "Отправляя его на хорошо раскалённую сковороду без масла и на среднем огне обжаривают до золотистого цвета.\n",
            "Пускай остывает, я подготовила остальные продукты, и теперь давайте собирал салат на дно большого блюдом, берём листья салата, можно взять микс сегодня я беру ру колу и миг разделе него такое\n",
            "Добавляю небольшие кри манкис хума сам и также я взяла у приманку маслины, можно эти маслины просто разбросать по салатов\n",
            "Полосками выкладываю нарезанные помидоры,\n",
            "Уже остывшую курицу\n",
            "Также большим о такими кусками нарезаю огурец\n",
            "Тоже выкладывала таким образом\n",
            "Сыр фета, нарезаем кубиками\n",
            "И поливают соусом, друзья, как я готовила этот соус, будет следующих рецептах идея готовлю овощи, гриль\n",
            "Ну и какой же праздничный стол без шикарные мясной нарезки, сегодня я подготовила отличную идею, как сделать такую мясную доску с сыром, я обязательно покажу в одном из следующих роликов.\n",
            "Ни один праздник нашей семье не проходит без утки, и, конечно же, этот рецептик уже есть на моем канале, как готовить вкусные утка с яблоками, я ссылочку оставлю в описании под этим видео, чтобы не делать слишком длинный этот ролик, но уверяю вас приготовьте такую утку на прачечной стол и в будете в восторге\n",
            "И в качестве основного горячего блюда я сегодня подавала запечённые стояки с рыбы\n",
            "Когда мы пошли за покупками, в нашем супермаркете была акция на целое лосось вот такой вот он небольшой, до двух килограмм,\n",
            "Очистили от плоский и нарезаем на стайки, конечно же, вы таким образом можете приготовить и филе другое рыбу лосось, естественно, получается очень вкусно и сочным, и более, что это достаточно жирная рыба нарезаю настойки, а из головы и обрезков, конечно же, будет вкус\n",
            "Зная и ароматная уха\n",
            "Подготовленные стайки я, выкладывая на про твин, который выстрелами пергаментом в по солью, немножечко соли много не добавляйте, добавлю смесь специи к рыбе, кстати, специи у меня без соли и сверху добавлю натёртый на мелкой тёрке пармезан, именно пармезан придаст необычный вкус для этой рыбки,\n",
            "Отправлю всех духовку, разогретую до двухста градусов на пятнадцать двадцать пять минут, все зависит, конечно же, от величины стойка, так как у меня они небольшие, эту пятнадцать минут было более чем достаточно, я, кстати, рыбе подготовила, ещё отворила брокколи, честно скажу, во время съёмки я просто забыла добавить к рыбе, но на праздничный стол я подавала и\n",
            "Именно с брокколи, и о такое сочетание то, что нужно, рыбка капуста бомбах,\n",
            "И к этому столу, я ещё приготовила овощи гриль, к тому же сейчас осень как раз сезон овощи такие достаточно доступные перцы растут, и ещё на огороде это блюдо и вкусное, и бюджетные\n",
            "Сладкий перец очищаю и нарезаем вот таким вот образом я использовала четыре перца два красных и два жёлтых\n",
            "Отправляю большую миску, где я буду мариновать все овощи, баклажаны, также нарезаю, но уже не кружочками, а вот такими большими кусками большими кубиками\n",
            "Также отправляю миску к овощам\n",
            "Кабачок нарезаем кружочками эти все овощи друзья, я буду запекать на электродрели, но хочу повторить, что если у вас его нет, все так же делаете, выкладывайте на противень и запекать в духовке пятнадцать двадцать минут, при двухста градусов будет достаточно, у меня осталось немножко шампиньонов, они, конечно же, не обязательно\n",
            "Но я готовила закуску грамм двести осталось, то решила тоже добавить к овощам, они к тому же получается, тоже очень вкусными, разрезала пополам так удобнее запекать, это все нужно хорошо посолить перца добавить\n",
            "С проездной все маслом,\n",
            "И, конечно же, все хорошо нужно перемешать\n",
            "Но и все овощи я буду жарить на хорошо раскалённом электродрели на ещё раз повторюсь, что духовка тоже отличная альтернатива для такого блюдо, тем более что жаре такие овощи очень просто и быстро я все процесса не показываю вам, конечно же, как я выкладываю все овощи\n",
            "Но готовятся все по тому же принципу, но я отдельно обжаривают там перец, баклажаны, грибы и все обжаривайте отдельно, дальше подготовлю соус заправку, которую я использовала и для салата, и для овощей, гриль мирян, чеснок измельчённой добавила сюда горчицу в зерна и обычную горчицу\n",
            "Конечно же, сок лимона\n",
            "Соевый соус, все хорошо перемешайте, и добавила ещё немножечко растительного масла, но это уже по желанию принципе мы в овощи добавляли масла, то можете не добавлять, но так аромат не получается тебя заправка готова к этой пропорции у меня было достаточно и для салата, и для овощей гриль, что овощи что сама\n",
            "От этой заправка я поливаю уже, когда все стоит на столе, вот собрались гости, и только тогда поливаем все заправок подавать, а овощи буду в таком блюде на дно добавлю зелень, кто-то по желанию, это скорее всего, для красоты\n",
            "И выложим овощи\n",
            "Кабачки, мы уже собирать и подавать это закуску, вы можете уже так, как позволяет ваша фантазия\n",
            "Я под вот таким вот образом, как по мне, это красиво и просто к тому же\n",
            "Украшают зеленью, и можно подавать мне есть такая красивая подставка, подогрев накрываем крышкой и такая закуской всегда будет тёплая\n",
            "Мы и праздничный стол без десерта, это не праздничный стол, самые вкусные и любимой десерт моей семье и моих друзей, это, конечно же, тирамису, я люблю его готовить, это просто но и получается очень и очень вкусно желтком добавляю сахар и взбивают у все массу добела\n",
            "Хорошо взбитые желтки, я добавляю маскарпоне эти все продуктов должны быть из холодильника, что холодное жуки, что холодная маскарпоне, и вот в итоге такая пышная масса получилось\n",
            "Дальше берём белке, добавлю немножечко соли и в забьёт до устойчивых пиков\n",
            "Сбитая белки, ввожу в сливочное масло\n",
            "И все вот такой вот воздушные и безумно вкусно и крем готов\n",
            "Нужно подготовить сироп, в котором я буду маки вать слова ярде берём кофе эспрессо,\n",
            "И добавила, немножечко виски, конечно же, алкоголь может быть абсолютно любым, а можно и вообще не использовать, так если вы готовите для детей\n",
            "Подавать это десерты, буду порционно берём стаканчике, на дно которых обязательно нужно добавить крем.\n",
            "Печенье сова, ярде я разломов её и обмотки вы у кофе, и буквально одну секунду\n",
            "Печенье покрываем крема для того, чтобы было удобно собирать десерт, я крем выложила в мешок\n",
            "И каждый стаканчик посыпаем какао, но это уже по желанию на я люблю более насыщенный вкус какао, снова такие идут печенье\n",
            "Сверху снова таки покрываем все кремом, но я много крема не добавляют, а как хочу ещё украсить\n",
            "С помощью крема делаю вот такие вот звёздочки, украшая меня, есть насадка, конечно же, это не обязательно анта какая-то праздничный стол, то мне смотрится так красивее\n",
            "Конечно же, посыпаем все какао\n",
            "И все можно наслаждаться желательно такое десерт приготовить заранее я всегда готов ли с вечера, а на следующий день подают к столу на два часа, для пропитки будет более чем достаточно\n",
            "Так как мы праздновали годовщину нашей свадьбы, ещё подготовила вот такой вот чизкейк, которое называется фраера роше лице приготовления которого вы скоро уже сможете увидеть на моем канале.\n",
            "Ну что ж, грозя, я надеюсь, то хотя бы один из этих рецепта и идея вам понравился, и вы обязательно приготовиться и себе на праздничной стало ну а если же вам понравилась такая видео, подписывайтесь на мой канал, не забывайте нажать на колокольчик, чтобы получать уведомления о новых видеорецептов до новой встречи, всегда наказали вкус\n",
            "Просто и доступно готовьте с любовью мой тебя здорово друзья, если вы катается по моих рецепт так отмечается, и отправляйте меня своей фото отчёты на инстаграм, вам мне сложно, а мне очень приятно до новой встречи с друзья пока пока\n"
          ]
        }
      ]
    },
    {
      "cell_type": "markdown",
      "metadata": {
        "id": "6J6OM8LF3nte"
      },
      "source": [
        "Результат не идеален. В том числе из-за плохого распознавания речи"
      ]
    },
    {
      "cell_type": "markdown",
      "metadata": {
        "id": "Mfqn1b_B4NGK"
      },
      "source": [
        "## Попробуем просто текст"
      ]
    },
    {
      "cell_type": "markdown",
      "metadata": {
        "id": "iGjKShzCFyLI"
      },
      "source": [
        "Облачная погода и небольшой дождь прогнозируются в столичном регионе в воскресенье, 7 ноября. Такой прогноз был размещен на сайте Гидрометцентра РФ.\n",
        "\n",
        "По информации метеорологов, днем в столичном регионе воздух прогреется до 5–7 градусов тепла.\n",
        "\n",
        "\"Ветер западный, юго-западный 6–11 метров в секунду, местами порывы до 17 метров в секунду\", – утверждается в прогнозе.\n",
        "\n",
        "Атмосферное давление зафиксируется на отметке порядка 742 миллиметров ртутного столба.\n",
        "\n",
        "Синоптики также отметили, что в ночь на понедельник температура упадет до +3 градусов.\n",
        "\n",
        "Ранее москвичей предупредили о резком повышении атмосферного давления. Заявлялось, что в среду, 10 ноября, показатель возрастет на 19–22 миллиметра ртутного столба за сутки.\n",
        "\n",
        "До этого научный руководитель Гидрометцентра Роман Вильфанд предупредил о приходе легких морозов в Москву. По словам синоптика, столица окажется под влиянием западной части циклона. При этом воздушные массы будут идти с севера."
      ]
    },
    {
      "cell_type": "code",
      "metadata": {
        "colab": {
          "base_uri": "https://localhost:8080/"
        },
        "id": "-aopQtXWFzZg",
        "outputId": "dd97bee6-205f-4528-ca9d-361118aa70d4"
      },
      "source": [
        "news_test = input().split('.')"
      ],
      "execution_count": null,
      "outputs": [
        {
          "name": "stdout",
          "output_type": "stream",
          "text": [
            "Облачная погода и небольшой дождь прогнозируются в столичном регионе в воскресенье, 7 ноября. Такой прогноз был размещен на сайте Гидрометцентра РФ. По информации метеорологов, днем в столичном регионе воздух прогреется до 5–7 градусов тепла. \"Ветер западный, юго-западный 6–11 метров в секунду, местами порывы до 17 метров в секунду\", – утверждается в прогнозе. Атмосферное давление зафиксируется на отметке порядка 742 миллиметров ртутного столба. Синоптики также отметили, что в ночь на понедельник температура упадет до +3 градусов. Ранее москвичей предупредили о резком повышении атмосферного давления. Заявлялось, что в среду, 10 ноября, показатель возрастет на 19–22 миллиметра ртутного столба за сутки. До этого научный руководитель Гидрометцентра Роман Вильфанд предупредил о приходе легких морозов в Москву. По словам синоптика, столица окажется под влиянием западной части циклона. При этом воздушные массы будут идти с севера.\n"
          ]
        }
      ]
    },
    {
      "cell_type": "code",
      "metadata": {
        "colab": {
          "base_uri": "https://localhost:8080/"
        },
        "id": "YZNpPuJhGBxk",
        "outputId": "9e147d21-1ed6-47c0-9684-7b7a5bd87d3d"
      },
      "source": [
        "news_test"
      ],
      "execution_count": null,
      "outputs": [
        {
          "output_type": "execute_result",
          "data": {
            "text/plain": [
              "['Облачная погода и небольшой дождь прогнозируются в столичном регионе в воскресенье, 7 ноября',\n",
              " ' Такой прогноз был размещен на сайте Гидрометцентра РФ',\n",
              " ' По информации метеорологов, днем в столичном регионе воздух прогреется до 5–7 градусов тепла',\n",
              " ' \"Ветер западный, юго-западный 6–11 метров в секунду, местами порывы до 17 метров в секунду\", – утверждается в прогнозе',\n",
              " ' Атмосферное давление зафиксируется на отметке порядка 742 миллиметров ртутного столба',\n",
              " ' Синоптики также отметили, что в ночь на понедельник температура упадет до +3 градусов',\n",
              " ' Ранее москвичей предупредили о резком повышении атмосферного давления',\n",
              " ' Заявлялось, что в среду, 10 ноября, показатель возрастет на 19–22 миллиметра ртутного столба за сутки',\n",
              " ' До этого научный руководитель Гидрометцентра Роман Вильфанд предупредил о приходе легких морозов в Москву',\n",
              " ' По словам синоптика, столица окажется под влиянием западной части циклона',\n",
              " ' При этом воздушные массы будут идти с севера',\n",
              " '']"
            ]
          },
          "metadata": {},
          "execution_count": 46
        }
      ]
    },
    {
      "cell_type": "markdown",
      "metadata": {
        "id": "GUOEgfwc4VL2"
      },
      "source": [
        "Удалил знаки пунктуации"
      ]
    },
    {
      "cell_type": "code",
      "metadata": {
        "colab": {
          "base_uri": "https://localhost:8080/",
          "height": 132
        },
        "id": "-wW-OBhrHkcN",
        "outputId": "86032b31-27f8-43dc-a37c-d27d92d9933f"
      },
      "source": [
        "import re\n",
        "' '.join([re.sub(r'[^\\w\\s]',' ', sentence) for sentence in news_test])"
      ],
      "execution_count": null,
      "outputs": [
        {
          "output_type": "execute_result",
          "data": {
            "application/vnd.google.colaboratory.intrinsic+json": {
              "type": "string"
            },
            "text/plain": [
              "'Облачная погода и небольшой дождь прогнозируются в столичном регионе в воскресенье  7 ноября  Такой прогноз был размещен на сайте Гидрометцентра РФ  По информации метеорологов  днем в столичном регионе воздух прогреется до 5 7 градусов тепла   Ветер западный  юго западный 6 11 метров в секунду  местами порывы до 17 метров в секунду     утверждается в прогнозе  Атмосферное давление зафиксируется на отметке порядка 742 миллиметров ртутного столба  Синоптики также отметили  что в ночь на понедельник температура упадет до  3 градусов  Ранее москвичей предупредили о резком повышении атмосферного давления  Заявлялось  что в среду  10 ноября  показатель возрастет на 19 22 миллиметра ртутного столба за сутки  До этого научный руководитель Гидрометцентра Роман Вильфанд предупредил о приходе легких морозов в Москву  По словам синоптика  столица окажется под влиянием западной части циклона  При этом воздушные массы будут идти с севера '"
            ]
          },
          "metadata": {},
          "execution_count": 60
        }
      ]
    },
    {
      "cell_type": "markdown",
      "metadata": {
        "id": "hOENctoE4agV"
      },
      "source": [
        "Вот что получается"
      ]
    },
    {
      "cell_type": "code",
      "metadata": {
        "colab": {
          "base_uri": "https://localhost:8080/",
          "height": 132
        },
        "id": "wKmjijQtHGje",
        "outputId": "6f4d7e43-c414-4174-bf9e-c616dd8a312a"
      },
      "source": [
        "predictor(' '.join([re.sub(r'[^\\w\\s]',' ', sentence) for sentence in news_test]))"
      ],
      "execution_count": null,
      "outputs": [
        {
          "output_type": "execute_result",
          "data": {
            "application/vnd.google.colaboratory.intrinsic+json": {
              "type": "string"
            },
            "text/plain": [
              "'Облачная погода и небольшой дождь прогнозируются в столичном регионе в воскресенье, 7 ноября. Такой прогноз был размещен на сайте Гидрометцентра РФ По информации метеорологов, днем в столичном регионе воздух прогреется до 5 7 градусов тепла, Ветер западный, юго западный, 6 11 метров в секунду, местами порывы до 17 метров в секунду, утверждается в прогнозе, Атмосферное давление зафиксируется на отметке порядка 742 миллиметров ртутного столба. Синоптики также отметили, что в ночь на понедельник температура упадет до 3 градусов. Ранее москвичей предупредили о резком повышении атмосферного давления. Заявлялось, что в среду, 10 ноября, показатель возрастет на 19 22 миллиметра ртутного столба за сутки. До этого научный руководитель Гидрометцентра Роман Вильфанд предупредил о приходе легких морозов в Москву. По словам синоптика, столица окажется под влиянием западной части циклона. При этом воздушные массы будут идти с севера'"
            ]
          },
          "metadata": {},
          "execution_count": 61
        }
      ]
    }
  ]
}