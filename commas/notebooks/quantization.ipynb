{
 "cells": [
  {
   "cell_type": "code",
   "execution_count": 1,
   "metadata": {},
   "outputs": [],
   "source": [
    "import sys\n",
    "\n",
    "sys.path.insert(0, '../src')"
   ]
  },
  {
   "cell_type": "code",
   "execution_count": 2,
   "metadata": {},
   "outputs": [],
   "source": [
    "from pathlib import Path\n",
    "\n",
    "import torch\n",
    "\n",
    "from neuro_comma.predict import RepunctPredictor\n",
    "from neuro_comma.model import CorrectionModel"
   ]
  },
  {
   "cell_type": "code",
   "execution_count": 4,
   "metadata": {},
   "outputs": [],
   "source": [
    "model = CorrectionModel(\n",
    "    pretrained_model=\"DeepPavlov/rubert-base-cased-sentence\",\n",
    "    targets={\n",
    "        \"O\": 0,\n",
    "        \"COMMA\": 1,\n",
    "        \"PERIOD\": 2\n",
    "    }\n",
    ")"
   ]
  },
  {
   "cell_type": "code",
   "execution_count": 5,
   "metadata": {},
   "outputs": [],
   "source": [
    "model.load('../models/repunct-model-new/weights/weights_ep6_9912.pt')"
   ]
  },
  {
   "cell_type": "code",
   "execution_count": 6,
   "metadata": {},
   "outputs": [],
   "source": [
    "quantized_model = model.quantize()"
   ]
  },
  {
   "cell_type": "code",
   "execution_count": 14,
   "metadata": {},
   "outputs": [
    {
     "data": {
      "text/plain": [
       "'Я расскажу о своем pet project библиотеки для уменьшения моделей, compressors, библиотека является некоторой надстройкой над catalyst, однако допускает использования своих train loop-ов, для применения библиотеки требуется лишь изменить forward моделей, а потому нет никакой привязки к домену, использования/архитектуре, конвертация тоже не нужна, хочется заметить, что библиотека ортогональна к использованию различных специализированных библиотека типа onnx, OpenVINO и так далее'"
      ]
     },
     "execution_count": 14,
     "metadata": {},
     "output_type": "execute_result"
    }
   ],
   "source": [
    "quantized_model.save('../models/repunct-model-new/weights/quantized_weights_ep6_9912.pt')"
   ]
  },
  {
   "cell_type": "code",
   "execution_count": 3,
   "metadata": {},
   "outputs": [],
   "source": [
    "predictor = RepunctPredictor(model_name='repunct-model-new',\n",
    "                             models_root=Path('../models'),\n",
    "                             model_weights='quantized_weights_ep6_9912.pt',\n",
    "                             quantization=True)"
   ]
  },
  {
   "cell_type": "code",
   "execution_count": 4,
   "metadata": {},
   "outputs": [
    {
     "data": {
      "text/plain": [
       "'Показатели давления могут изменяться в зависимости от ряда факторов. Даже у одного и того же пациента в течение суток наблюдаются колебания АД. Например, утром после пробуждения кровяное давление может быть низким, после обеда оно может начать подниматься.'"
      ]
     },
     "execution_count": 4,
     "metadata": {},
     "output_type": "execute_result"
    }
   ],
   "source": [
    "text = (\"Показатели давления могут изменяться в зависимости от ряда факторов \"\n",
    "\"Даже у одного и того же пациента в течение суток наблюдаются колебания АД \"\n",
    "\"Например утром после пробуждения кровяное давление может быть низким \"\n",
    "\"после обеда оно может начать подниматься\")\n",
    "\n",
    "predictor(text)"
   ]
  },
  {
   "cell_type": "code",
   "execution_count": null,
   "metadata": {},
   "outputs": [],
   "source": []
  }
 ],
 "metadata": {
  "interpreter": {
   "hash": "0f6647ac222ee8180da4b9f4daf24da456a5df3bc659c190f01c4ac62564739c"
  },
  "kernelspec": {
   "display_name": "Python 3.8.9 64-bit ('venv': venv)",
   "name": "python3"
  },
  "language_info": {
   "codemirror_mode": {
    "name": "ipython",
    "version": 3
   },
   "file_extension": ".py",
   "mimetype": "text/x-python",
   "name": "python",
   "nbconvert_exporter": "python",
   "pygments_lexer": "ipython3",
   "version": "3.9.4"
  },
  "orig_nbformat": 4
 },
 "nbformat": 4,
 "nbformat_minor": 2
}